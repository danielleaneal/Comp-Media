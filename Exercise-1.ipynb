{
  "nbformat": 4,
  "nbformat_minor": 0,
  "metadata": {
    "colab": {
      "name": "Untitled1.ipynb",
      "provenance": [],
      "mount_file_id": "1XUJuALXlPWxDi0XvCRVsgh_Yil94Ll9u",
      "authorship_tag": "ABX9TyO4L5u0MIRDRxLqQNJ5sI34",
      "include_colab_link": true
    },
    "kernelspec": {
      "name": "python3",
      "display_name": "Python 3"
    }
  },
  "cells": [
    {
      "cell_type": "markdown",
      "metadata": {
        "id": "view-in-github",
        "colab_type": "text"
      },
      "source": [
        "<a href=\"https://colab.research.google.com/github/danielleaneal/Comp-Media/blob/main/Exercise-1.ipynb\" target=\"_parent\"><img src=\"https://colab.research.google.com/assets/colab-badge.svg\" alt=\"Open In Colab\"/></a>"
      ]
    },
    {
      "cell_type": "code",
      "metadata": {
        "id": "Ia6B7rI835Ay"
      },
      "source": [
        "#Trying to save this file to my Github Repository I made for this class\n",
        "# sample from class at \n",
        "#https://colab.research.google.com/drive/1q8X3lV1RqLWhktxZCpBay8_MnulxE9cO?usp=sharing#scrollTo=oJjC-OomSmGf"
      ],
      "execution_count": null,
      "outputs": []
    },
    {
      "cell_type": "code",
      "metadata": {
        "colab": {
          "base_uri": "https://localhost:8080/"
        },
        "id": "ukXLxl8XVeOx",
        "outputId": "fdf89bde-36a2-48da-e404-b57518cff23b"
      },
      "source": [
        "!pip install markovify"
      ],
      "execution_count": 1,
      "outputs": [
        {
          "output_type": "stream",
          "text": [
            "Collecting markovify\n",
            "  Downloading https://files.pythonhosted.org/packages/33/92/4036691c7ea53e545e98e0ffffcef357ca19aa2405df366ae5b8b7da391a/markovify-0.8.3.tar.gz\n",
            "Collecting unidecode\n",
            "\u001b[?25l  Downloading https://files.pythonhosted.org/packages/74/65/91eab655041e9e92f948cb7302e54962035762ce7b518272ed9d6b269e93/Unidecode-1.1.2-py2.py3-none-any.whl (239kB)\n",
            "\u001b[K     |████████████████████████████████| 245kB 9.6MB/s \n",
            "\u001b[?25hBuilding wheels for collected packages: markovify\n",
            "  Building wheel for markovify (setup.py) ... \u001b[?25l\u001b[?25hdone\n",
            "  Created wheel for markovify: filename=markovify-0.8.3-cp36-none-any.whl size=18415 sha256=e3842b664ba5f8ae58baa5b467c8631462f038cc7662344b7cb79dfda45abe54\n",
            "  Stored in directory: /root/.cache/pip/wheels/5e/e5/be/8e61715070048813947af5fb32f47b4cf9dddd37c965800bdb\n",
            "Successfully built markovify\n",
            "Installing collected packages: unidecode, markovify\n",
            "Successfully installed markovify-0.8.3 unidecode-1.1.2\n"
          ],
          "name": "stdout"
        }
      ]
    },
    {
      "cell_type": "code",
      "metadata": {
        "id": "FnkbjskEVxAC"
      },
      "source": [
        "import markovify"
      ],
      "execution_count": 17,
      "outputs": []
    },
    {
      "cell_type": "code",
      "metadata": {
        "id": "F5aqTmf5XA0K"
      },
      "source": [
        "#Combinining the Book of Ecclesiastes with a Self-Help Book\n",
        "with open(\"Ecclesiastes-1.txt\") as f:\n",
        "  text = f.read()"
      ],
      "execution_count": 30,
      "outputs": []
    },
    {
      "cell_type": "code",
      "metadata": {
        "colab": {
          "base_uri": "https://localhost:8080/"
        },
        "id": "gASAPHBWbzax",
        "outputId": "12ebdc3b-9b99-48e6-ce8e-63ca676d46d1"
      },
      "source": [
        "with open(\"Balance.txt\") as f:\n",
        "  text2 = f.read()\n",
        "len(text2.split(' '))"
      ],
      "execution_count": 31,
      "outputs": [
        {
          "output_type": "execute_result",
          "data": {
            "text/plain": [
              "29100"
            ]
          },
          "metadata": {
            "tags": []
          },
          "execution_count": 31
        }
      ]
    },
    {
      "cell_type": "code",
      "metadata": {
        "colab": {
          "base_uri": "https://localhost:8080/"
        },
        "id": "17a2QCMeb77J",
        "outputId": "c41a75e4-76cd-4ffc-c38a-94c54b6ae30d"
      },
      "source": [
        "print(len(text.split(' ')))\n",
        "text4 = \" \".join(text.split(' ')[0:31721])+text2\n",
        "len(text4.split(' '))"
      ],
      "execution_count": 25,
      "outputs": [
        {
          "output_type": "stream",
          "text": [
            "5221\n"
          ],
          "name": "stdout"
        },
        {
          "output_type": "execute_result",
          "data": {
            "text/plain": [
              "43642"
            ]
          },
          "metadata": {
            "tags": []
          },
          "execution_count": 25
        }
      ]
    },
    {
      "cell_type": "code",
      "metadata": {
        "id": "i3TbOGfcb-yP"
      },
      "source": [
        "text3 = text+text2"
      ],
      "execution_count": 26,
      "outputs": []
    },
    {
      "cell_type": "code",
      "metadata": {
        "colab": {
          "base_uri": "https://localhost:8080/"
        },
        "id": "v6sbm3VgcBvM",
        "outputId": "92c8e8ae-c8d9-4b20-a37f-035d3bc4e793"
      },
      "source": [
        "text_model = markovify.Text(text4)\n",
        "\n",
        "candidates = []\n",
        "for i in range(150):\n",
        "  print(text_model.make_sentence())"
      ],
      "execution_count": 34,
      "outputs": [
        {
          "output_type": "stream",
          "text": [
            "I try my best to keep on working away, I certainly never have.\n",
            "When I read those words, I can’t help being filled with good, and also to whom God hath given him power to make decisions for you.\n",
            "If one person he could decide to just quit his full time job if he has a desire to fill a void with things you have detached yourself from the thinking he has a desire to eat and to have to safe guard yourself from the existing clutter.\n",
            "I was younger it was from the place from whence the rivers come, thither they return again.\n",
            "Illness can come from that attack, he was never healthy again.\n",
            "The American asked the fisherman, “Why are you going through something a lot about writing.\n",
            "• Is there a project that involves writing at the fountain, or the many items that we don’t want to achieve?\n",
            "I do this knowing that optimists tend to be confined.\n",
            "The fact that you wish you had situations that Mare, Lance and Stacey have talked about?\n",
            "My sister and I will prove thee with mirth, therefore enjoy pleasure: and, behold, all is vanity and vexation of his vain life which he spendeth as a life balance by researching books and trying to put food on the choices we make it better Copyright © Stacey Hoffer Weckstein, CreateaBalance.com Page 65 Sponsored by CreateaBalance.com Life balance is tricky at first, but once you get some speed and we hurt.\n",
            "And if I can drop all that he have no time to die; a time to plant, and a 9 in relationships you need to work while they are few, and those that shall stand up in a way that made sense to someone who doesn’t have children and to the strong, neither yet bread to the movie portion of the framework successfully.\n",
            "Better is the sinner; and he saith to every purpose and for every purpose there is a never-ending cycle.\n",
            "Better is it important?\n",
            "The balance is one event happeneth to them that have it.\n",
            "Also, people with this pattern tend to have excess time to continue going up and down.\n",
            "The Mexican fisherman replied, “but, Senor Professor, what can a person is not satisfied with seeing, nor the years draw nigh, when thou goest to the outcome of the wise more than the interstate.\n",
            "She will never have to feel ready to tackle something else.\n",
            "This is a defence, and money is a recipe for disaster.\n",
            "There is no rush, there is a kind of a higher power, or of something else that would be the most unbalanced phase of my character.\n",
            "Guess what, I don’t remember much about it, except that because it is a good post to start an activity • Employment: the occupation for which you should be ours all the pieces of our life balance.\n",
            "Next time you have wasted in the bosom of fools.\n",
            "And you can’t save time to regroup, relax and possibly write a list of all kind of clutter is unacceptable?\n",
            "Recognize that you can’t save time to embrace, and a sparkle in my father’s lap.\n",
            "On my computer if I could “in the good of all the demands makes of us.\n",
            "Puzzled with the changes rather than make life better.\n",
            "From rebirthing I knew I liked him, I suppose, but I am doing it.\n",
            "I love networking and being held prisoner.\n",
            "You can only do the things that we have the cake and eat it too.\n",
            "My sister and I saw the wicked buried, who had come and gone from the problem lies in a simply amazed and fascinated examination.\n",
            "If you’re thinking there’s a happy ending here and I’m going to get consumed with something physically intense activity and coping with stress.\n",
            "With a little ditty that goes something like this: Since I was 18, I didn’t feel anything about him.\n",
            "All our everyday efforts have one obvious thing in common, then that is before them.\n",
            "You don’t have to.\n",
            "One thing I know that, whatsoever God doeth, it shall be.\n",
            "I get stuck on the science of happiness, writes that the greatest motivator for us Copyright © Stacey Hoffer Weckstein, CreateaBalance.com Page 86 Sponsored by CreateaBalance.com useless if you are dealing with this pattern tend to be optimists.\n",
            "—Henry David Thoreau People say that your employer ties raises to performance.\n",
            "I was totally out of your life.\n",
            "If you’re thinking there’s a happy ending here and I’m doing very well with them that fear God, which fear before him: But it shall not rejoice in him.\n",
            "However, I kept thinking about this quite a part limited in time and judgment, therefore the misery of man is sweet, and a time to build a business which requires you to catch your breath, no matter how good it feels to exercise.\n",
            "I have to do it.\n",
            "All exercise, self care, my job, my own hand and witness a mystery that many Italian cities have taken the Slow City movement in his sight wisdom, and madness, and folly: for what can the man do that you don’t spend every evening as a career.\n",
            "Therefore I hated life; because the legs are pretty well-balanced that instead of simply calculating your net happiness.\n",
            "The rest of it only exists to serve as a child I sat comfortably in my heart, that this also is vanity.\n",
            "Here are some ways it’s a great situation he is in.\n",
            "A month later, a doctor is telling herself it is for the different aspects are only 24 hours in a few moments basking in the sense, chasing money and gives us time to put into the drum like rats in a strange land.\n",
            "Since we live in a different space than the living know that every man knows well enough that he probably needs a break in her calendar and “to do” list — right down to watch your favorite television program, is this in alignment with what our body, mind, and spirit.\n",
            "Presently, quite a bit.\n",
            "Here is a non-renewable resource, if you don’t need that much money to sustain yourself anyway, so money should not be well with them or are problematic and not for the cat.\n",
            "• I can focus on expands so talk about how good we become at balancing life, we will not be happy if we are not heard.\n",
            "But then I started having rebirthing sessions, where you analyze/act.\n",
            "Balance means that we don’t want to start now.\n",
            "Wisdom strengtheneth the wise is in the region of the universe emulates itself on all aspects of a higher status than people.\n",
            "Life has a desire to eat just a couple of times in week and also just take some deep cleansing breaths.\n",
            "We often feel there is a weariness of the steps in the multitude of dreams and many words there are only young once… Soak up the days of his sight: stand not in thy bedchamber: for a while I am a single.\n",
            "It’s a Jigsaw Puzzle — By Kathy Hendershot-Hurd, Virtual Impax Entrepreneurship is a teeter-totter, we realize that the former days were better than laughter: for by the concept of creating detachment.\n",
            "Combine this with a negative pessimistic attitude will I ever finish?” and just wondered at the end of all his labour, it is that we have accomplished we tend to lend themselves to nostalgia.\n",
            "Step 6 : Shield • Take time to build a city not for the owners thereof, saving the beholding of them again.\n",
            "He came to realize that the purpose of life balance is fragile and short- lived.\n",
            "Trying to build a city not for drunkenness!\n",
            "I don’t always have to get that time in our lives, the better.\n",
            "• Stay physically, emotionally and mentally in the ways of thine heart, and put my own being, listen to what my body has encountered.\n",
            "Recognize that you do not just involve cleanup but end up feeling like a balanced life when I was somewhere down near 10th on my face and a light meditation is on the mind-body connection: “Health is not perfect, but I try breathing techniques to get kids to participate in cleaning the house.\n",
            "Surely oppression maketh a wise child than an old and foolish king, who will guide you when you are with life balance.\n",
            "This delusion is a kind of clutter is unacceptable?\n",
            "During his tenure he created urban infrastructure and public space that gave priority to children who didn’t hold on folly, till I might notice that my hands had wrought, and on the roads.\n",
            "I hear the rebuke of the steps are ones that will not work.\n",
            "It is better than strength: nevertheless the poor man's wisdom maketh his face to face, feet not touching the ground.\n",
            "I didn’t know you had done me wrong on the topic, particularly since I struggle so much more to existence then the subjects of fixation by our limited physical senses.\n",
            "Dan Baker, a clinical psychologist whose practice draws on the weekends, missing time with friends and exploring temples and markets.\n",
            "We probably use just 20% of the fool: this also is full of evil, and madness is in the days of my personal goals will have the exact same functions as our arms could have fun.\n",
            "No-one knew what I think I’ve got the flow more and judging myself less.\n",
            "In my case, exercise is but she can reduce the clutter and on the back, be gentle with inner critic, and have compassion.\n",
            "Is there a project that involves writing at the rate I was scared to feel them.\n",
            "As I was totally out of a thing? a man's wisdom maketh his face shall be hurt therewith; and he that hath laboured for the day.\n",
            "I enjoy being with and am willing to bet that in all aspects of my life.\n",
            "• Spend less than what you are in now.\n",
            "Having life balance disaster.\n",
            "Then you can retire.\n",
            "By spending less per meal then I need to take the longer but more beautiful route home on the head or get a chance.\n",
            "All of us has a schedule of its own hiccups.\n",
            "You can have the energy needed to improve your life?\n",
            "Determining what those things you have wasted in the business world is grueling and relentless and you are with someone — be with others.\n",
            "If I am unfocused and “worrying about this dream was my interpretation.\n",
            "Life is about holding on and scream your head office to Mexico City, or even to me; and why was I then more wise?\n",
            "This way you feel.\n",
            "Here are the ones that require the longest time to spend time with myself and others.\n",
            "I tend to live by.\n",
            "Yeah, with all this I considered in my visual field or the golden bowl be broken, or the other things that you consider work.\n",
            "Before I start, here are a true pessimist at heart, take your time and attention from things that are like a dance.\n",
            "This totally changed things around me What are you emotionally connecting?\n",
            "All of us has a big hand in my head what needs to immerse himself in activities that she does.\n",
            "A balanced lifestyle is not the rich will not be so overrun by their emotions that they themselves are beasts.\n",
            "This was the giant screen above it.\n",
            "Therefore I hated all my labour which he may give to him that is the ability to Copyright © Stacey Hoffer Weckstein, CreateaBalance.com Page 30 Sponsored by CreateaBalance.com Life Balance: A Very Personal Pyramid — By Dave Jones, Your Friendly CPA On the contrary.\n",
            "I should really be an ever changing puzzle.\n",
            "Combine this with a negative pessimistic attitude will I ever finish?” and just general sadness because I have asked myself many times what I am writing where I feel part of your problem.\n",
            "Copyright © Stacey Hoffer Weckstein, CreateaBalance.com Page 93 Sponsored by CreateaBalance.com Juggling Life’s Balls — By Stacey Shipman, Let it Flow There’s no secret to balance.\n",
            "The bad, really sad news is that he taketh under the sun.\n",
            "One time a group of kids made a list of people to tend to.\n",
            "It takes time to do as you sit and yarn, sooner or later someone in the house of feasting: for that is the case.\n",
            "For all his labour, and bereave my soul seeketh, but I can hope for.\n",
            "And we have to step 1.\n",
            "Then I returned, and I chose carefully and each decided we wanted one of joy and freedom.\n",
            "The only time I felt connected swam through my mind just won’t work as well.\n",
            "He has probably been thinking his situation so much easier and more creative energy to give 100 percent of the desire: this is also vanity and vexation of spirit.\n",
            "Then I commended mirth, because a man should eat and drink, and to be the easiest.\n",
            "Copyright © Stacey Hoffer Weckstein, CreateaBalance.com Page 84 Sponsored by CreateaBalance.com children, rushing to the economics of the quality of life balance disaster.\n",
            "If I take ten minutes for a long walk and leave the I-Pod at home.\n",
            "If I had my first boyfriend for 9 months when I was a little girl, I loved playing on “dangerous” paint-chipped equipment, which society put away long ago.\n",
            "Then you can slowly get out into the moment.\n",
            "I kept not from them, I withheld not my junk food diet that is most favorable toward the ends you desire.”\n",
            "We can get by with.\n",
            "The benefit of living a balanced Life.\n",
            "Don’t wait until you’re making the best possible future for himself that is backwards.\n",
            "Presently, quite a bit.\n",
            "When I fight them, I’m out of control we feel.\n",
            "Ask yourself how you can hold on folly, till I might see that they need life balance with a touch of happiness • See the difference between big problem, and small interruptions should be expected!\n",
            "It was a successful man.\n",
            "Life can be as simple as going for a while, but then we need to create with my friends and family when you have to give this thinking a break in her home.\n",
            "Copyright © Stacey Hoffer Weckstein, CreateaBalance.com Page 90 Sponsored by CreateaBalance.com Practicing Balance in Your Life , Paul defines PERFECT BALANCE as The “feeling of everything is balanced.\n",
            "After years of this as well?\n",
            "You choose how to deal with all my labour: and this was exhibited was that I love.\n",
            "If we think about things, how we make it.\n",
            "It certainly isn’t human nature to you now may mean nothing to you in your life changes.\n",
            "Now, delving into other activities mean not just the surface - is it important?\n",
            "On my computer if I still remember where I was much younger.\n",
            "Choice of what we make and the almond tree shall flourish, and the path to enlightenment.\n",
            "The benefit of living a balanced life is an evil which I immediately think of when I fall behind I find not: one man among a thousand have I seen also under the Bodhi tree regretting his broken marriage and lack of exercise to eating directly.\n",
            "Proper time management makes one obsessive, Copyright © Stacey Hoffer Weckstein, CreateaBalance.com Page 17 Sponsored by CreateaBalance.com Getting Your Groove Back – Life Balance Achievable?\n",
            "It should come as no surprise that I would be successful when I do these things God will bring you into balance, or if this brings you joy.\n",
            "We often feel there is no frustration about not moving fast enough to feed my family and have compassion.\n",
            "In these past months, I have laboured, and wherein I have little need for a minute.\n",
            "We learn to be confined.\n",
            "The idea is to choose activities that are truly important to you five years from now.\n",
            "I do that cometh after the other, to the joy of his labour which I have little need for work.\n",
            "On my computer if I don’t always have an easy time following my own money, my LIFE outside of Bunny.\n",
            "Oh I forgot my visits to temple – simply sitting and a company I really need this?”\n",
            "It is better than strength: nevertheless the poor man's wisdom is much easier than balancing thirty stones.\n",
            "Something we can ever accomplish in the Now.\n",
            "See positive results, gain confidence and then live that out every day.\n",
            "On my computer if I still remember where I have a refined awareness of their life.\n",
            "Take 15 minutes early and get your 10% in balance; my career time versus my family and more on your initial goal.\n",
            "There is one of our spouse or sibling is not possible.\n",
            "Here is my biggest problem.\n",
            "Always strive for less and create so much with it.\n",
            "Some physical space away from the PTA asks you to catch your breath, no matter how much you wish you had done - but the quality of - time you can tackle whatever needs to define what she means by wanting a sense of self, my needs, and my pre-natal lunar eclipse in Leo in the middle of it.\n",
            "However, I kept thinking about his issue, which is past.\n",
            "Anyway while I will always be a class, contest, race, trip, or anything else we try to juggle all the things that are important in your life.\n",
            "If the clouds has been balanced by feet on the ground, hands earning a living you will be vulnerable to illness.\n",
            "People with great speed and gain momentum, it is the practice of getting together to maintain balance in this; a SEE-SAW EFFECT.\n"
          ],
          "name": "stdout"
        }
      ]
    },
    {
      "cell_type": "code",
      "metadata": {
        "id": "U2xS-n38mLgy",
        "outputId": "1948da3b-5234-44de-8831-7d6ebbcee430",
        "colab": {
          "base_uri": "https://localhost:8080/"
        }
      },
      "source": [
        "import markovify\n",
        "import random\n",
        "\n",
        "with open(\"Text-Conglomerate.txt\") as f:\n",
        "  text = f.read()\n",
        "\n",
        "text_model = markovify.Text(text)\n",
        "\n",
        "for i in range (205):\n",
        "  print (text_model.make_sentence())"
      ],
      "execution_count": 45,
      "outputs": [
        {
          "output_type": "stream",
          "text": [
            "No one understands your priorities, principles and commitments better than one; because they are more officially exciting and honored by our limited physical senses.\n",
            "Each of us so have dreams of a shaky life.\n",
            "The three legs of the bird, and all turn to dust again.\n",
            "When you feel better and more importance for me to get your mind a rest, or if this is vanity, and it should not be so overrun by their emotions that they shall be upon the waters: for thou knowest not the rich sit in low place.\n",
            "Voice the emotions and actions with their eyes?\n",
            "If we think about life balance as a shadow? for who can make that straight, which he taketh under the sun?\n",
            "It’s a simple life to them all.\n",
            "I’m a well known professor at the same in several languages.\n",
            "For out of his neighbour.\n",
            "It will take practice but be cognizant while doing this to avoid something else and keep repeating our mistakes.\n",
            "The optimum is the practice of opening our heart and feeling the frustration of writer’s block.\n",
            "All of the windows be darkened, And the doors shall be after him under the Bodhi tree regretting his broken marriage and lack of exercise that is his portion.\n",
            "It can provide insight as to what my body tells me, and do something that costs money.\n",
            "For if they happened at all, happened at night, and after dinner in the afternoon, I can play with my current responsibilities and the spirit to be balanced, but I’m pretty sure Jesus never sat down with a referral to an ENT and enough prescriptions to start “acting and feeling” as if I can drop all that were before me in Jerusalem: yea, my heart to despair of all of us were still trying to fold it up, throw it into a fresh fit of laughter.\n",
            "If the iron be blunt, and he begetteth a son, and there be many things that are underlying the main areas of our lives simple and have many of us focus on balancing different areas of our lives.\n",
            "Always strive for less and create so much more to our liking, we do it, when and where you want “being divinely guided”, “being in the ways of thine heart, and put away evil from thy heart, and put my own small child hands.\n",
            "One will need juice; another will need a few days I know because I am either hoping for something new every day • Reach beyond limitations • Take life as a writer, sums it up so well: ” Time is an evil which I took under the sun.\n",
            "The practice of mindfulness, has been balanced by feet on the tight rope … blindfolded … while juggling chainsaws … without a second time.”\n",
            "I guess that discovery is just the surface life balance for those around you.\n",
            "He that loveth silver shall not much remember the days of his neighbour.\n",
            "The maximum is the very first step.\n",
            "It had a lot about his choices and create clutter free home to focusing on growing, strengthening and balancing yourself, you enable yourself to give myself unto wine, yet acquainting mine heart concerning the estate of the sons of men is full of evil, and madness is in reputation for wisdom and honour.\n",
            "A good night’s sleep, the correct food, 5 minutes alone of meditation time, doing things unconsciously or “revert back to safety.\n",
            "Also their love, and a gift destroyeth the heart.\n",
            "There is no good in my father’s lap.\n",
            "Up and down was so determined to grow into a blog post!\n",
            "Take 5 minutes and write as you grow older things take on differing degrees of importance.\n",
            "The business professor was horrified at the matter: for he that cleaveth wood shall be covered with a more productive combination of work, family, personal, social etc. We desire each of them with their eyes?\n",
            "I just wanted to play squash -but didn’t.\n",
            "As far as to say “yes” immediately.\n",
            "What profit hath he seen no good: do not all go through a specific way - a thing he loves to do the best I can remember I was in work mode my most common feeling was exhaustion, which is far off, and have a vice grip on it either.\n",
            "We only want balance when gives and takes, yes and no, happiness and positive emotion.\n",
            "Lance is in figuring out what is new just now • I can become quite overwhelmed with what you love.\n",
            "Interaction with positive people in your life that has fallen out of the kids would cram into the difficult ones.\n",
            "For me, the cost is well worth the time you get upset but only AFTER she has sugar cravings and pre-plan an emotionally satisfying activity such as fruit.\n",
            "I said in my body.\n",
            "And if you show up at the cistern.\n",
            "Writing your thoughts on this?\n",
            "Are you consciously interacting and you say “Ugh,” when you are out of his life, which God giveth to a woman I knew I liked him, I suppose, but I don’t always have an upcoming family trip.\n",
            "And I gave my heart to give 100 percent of yourself 100 percent wherever you are not a second; yea, he hath much sorrow and wrath with his sickness.\n",
            "And I turned myself to behold the tears of such as slowly increasing his writing work and what shall be afraid to talk to ourselves, cause us to do with my past life pattern of staying at home.\n",
            "He decided to spend a few to look at your best and worst times.\n",
            "He quite freely expressed love for me, but to the other.\n",
            "Even though much has been an at times I would even go so far as light excelleth darkness.\n",
            "The wise man's heart discerneth both time and focus your energies?\n",
            "Because we have an entire tomorrow”. People who live truly fulfilling lives make time for fun every day.\n",
            "A fool also is vanity and vexation of his years be many, and his words are not consciously in them moment and you may not have to decide what is the gift of God.\n",
            "Now this is also going to ASSERT MYSELF, because I inherited my Daddy’s Type A personality.\n",
            "Then I returned, and considered all the days of my life as well as prioritize.\n",
            "How do I labour, and of the house of mirth.\n",
            "I learned about the streets: Or ever the silver cord be loosed, or the moon, or the wheel of life approach looks at it from a perspective that will support you when you can spend quality time with loved ones are you finishing your day with an important part of your spiral slowly, using the third member is rarely heard in this life, all the living which are as goads, and as nails fastened by the masters of assemblies, which are given to the other; yea, they have all one breath; so that you can bring balance to be a class, contest, race, trip, or anything with a merry heart; for God now accepteth thy works.\n",
            "Rather than having more leisure time, we have not “detached” sufficiently from our problem.\n",
            "For he knoweth not that which is crooked cannot be made straight: and that they shall be well with that as well.\n",
            "With seeing that which is hardly a sustainable state.\n",
            "Dead flies cause the ointment of the Series titled “The key to being an employee.\n",
            "Then shall the dust return to go for lunch with your dreams.\n",
            "A good name is better than the wandering of the grinding is low, and he begetteth a son, and there is power: and who may say unto him, What doest thou?\n",
            "• What choices are you emotionally connecting?\n",
            "I want to detach ourselves emotionally, we have of a hologram is such that even the smallest piece of paper and make sure you are about to go on the intensity of your life that are to each other, meaning the more they’ll act as support for them.\n",
            "What Does Life Balance and Stress — By Jean, Stress to Power Our lives are balanced.\n",
            "I guess everything DOES happen for a better overall performance on other stuff.\n",
            "This brings an unconscious desire to fill a void with things you are working to improve your life know how much it is!\n",
            "My mind is cluttered as the birds that are done under the sun: But if a man that prolongeth his life in an effort to slowly but steadily inch towards the solution.\n",
            "This happens when we have an easy task when we have available to us, no matter how many of us is designed uniquely.\n",
            "This is also vanity, yea, it is not a medical professional and for once maybe I don't suck so badly at Life Balance?\n",
            "How could I write about living a balanced life when I had become so attached to the house of mourning, than to eat, and to drink, and that he will not be the proud in spirit.\n",
            "Dennis Waitely, whom I admire as a shadow? for who shall bring every work into judgment, with every secret thing, whether it be great if we went fast, slow or are you emotionally connecting?\n",
            "I think of when I fell out of our mother’s wax paper to make change happen.\n",
            "I said in mine heart, God shall bring him to sleep.\n",
            "Whoso removeth stones shall be in the day of death: and there is a topic which needs no introduction.\n",
            "A picnic of sandwiches, chips and soda-pop preceded the moment that we children considered the colossal mystery that is the life of balance before the living?\n",
            "• Balance Is All About Living — By Transformative Living I would NEVER be happy.\n",
            "The Key to Happiness and Balance is about right mix of work and what profit hath he that increaseth knowledge increaseth sorrow.\n",
            "The Awesomeness of Life — By BC Doan, Reach Beyond Limits I have peace of mind the car will do great on the good and the place of the wise more than the proud in spirit.\n",
            "Her focus should be most comfortable using.\n",
            "Live joyfully with the dog after a while I was juggling the entirely wrong set of balls!\n",
            "Organize your space around the next few hours.\n",
            "Achieving life balance according to the unclean; to him that is higher than they.\n",
            "Knowing what matters most to Stacey.\n",
            "• Balance Is All About Living — By Lance, Jungle of Life Balance Achievable?\n",
            "Nourish Your Body, Mind and Soul I feel connected I also started doing workshops that removed blocks to feeling connected to one place?\n",
            "You can see that they do evil.\n",
            "But what if he has already cleaned and takes focus away from all the oppressions that are done under the heaven all the pieces of your centre of gravity and steer ourselves back to step back and try again.\n",
            "Take joy and pleasure in fools: pay that which now is in the process.\n",
            "The day’s work is not just the right momentum going, just the right balance, to gain control.\n",
            "Whoso removeth stones shall be shut in the days of thy youth, and walk in the ways of thine heart, and put away evil from thy heart, and put my own small child hands.\n",
            "• Integrate your passions with your kid or sitting a tad longer in your life that brings him money.\n",
            "For if they happened at all, happened at night, and after that they shall be changed.\n",
            "And we need a break.\n",
            "She had her life packed full of labour; man cannot utter it: the eye is not in thy spirit to retain the spirit; neither hath he power in the womb of her authentic self.\n",
            "I returned, and considered all the works that are more officially exciting and honored by our thoughts, we cannot forgive?\n",
            "In looking back, I can’t name more than the cry of him that ruleth among fools.\n",
            "This is great upon him.\n",
            "There are three major myths about balancing these three myths create havoc and confusion.\n",
            "Their turn up, our turn at UP.\n",
            "Whoso keepeth the commandment shall feel no evil thing: and a time there for every work.\n",
            "For who can tell him?\n",
            "For as the birds that are taking away your time and judgment.\n",
            "There is no man knoweth either love or hatred by all that you cannot work with yourself if you are in balance.\n",
            "I want you to the house of feasting: for that is aware, thoughtful and open.\n",
            "This is an evil disease.\n",
            "Is this the life of abundance.\n",
            "I guess that discovery is just as she can about how bad sugar is for the owners thereof to their hurt.\n",
            "Talk about her life balance by paying attention to appreciate what we really are.\n",
            "We can also shoot for those that shall be shut in the moment, which we can’t do now- for reasons of health or sometimes even piece of equipment was the path to enlightenment.\n",
            "Surely the serpent will bite without enchantment; and a great situation he is a kind of optical delusion of his days.\n",
            "I guess there is no end of his talk is mischievous madness.\n",
            "Decide what comes first, sometimes there are also divers vanities: but fear thou God.\n",
            "Yet, she felt her life out with “Is Your Work Delightful?”\n",
            "Most of the stuff 80% of the day, instead of successfully balancing.\n",
            "He that loveth silver shall not rejoice in him.\n",
            "When we focus too much into one activity takes away one of those “Do as I like to be accomplished.\n",
            "All things are going to shake on them, and likewise no one has lain on their death bed wishing they had no comforter; and on the same in several languages.\n",
            "Yet he did come to great estate, and have gotten too far out of what inspires you and concentrate on my writing like I could “in the good of all the demands makes of us.\n",
            "All this have I found, saith the preacher; all is vanity and vexation of spirit.\n",
            "• Lance: Lance probably already knows this but it greatly increases our chances of staying in balance.\n",
            "On my way home, would love to listen to your senses and they were growing up -and perhaps needed us the stability required to balance life, it is a man should eat and drink, and enjoy the good and comely for one to eat sweets but is not of value to you now may mean nothing to you to head a committee and you have detached yourself from the place of feelings, of action, of health and happiness.\n",
            "We would spend far more time hence, we rather learn to use it”. In Part 1 of the wise man? and who may say unto him, What doest thou?\n",
            "Often, there is no end; and much study is a WAY to do with intrinsic factors such as cutting noise and traffic, increasing green spaces and sanctuaries that she nourishes her body needs will push you closer to the point in time, I’m not fulfilled.\n",
            "There is a time to enjoy each period of my city, to recreate, to rejuvenate.\n",
            "Scale is something we should do under the sun: and behold the tears of such as cutting noise and traffic, increasing green spaces and sanctuaries that she is on my walking shoes, putting a leash on my list of people to tend to.\n",
            "Two are better than he.\n",
            "Each role we play has its own and it is common among men: A man to rejoice, and to heap up, that he should eat and to seek and search out by wisdom concerning all things that are truly important to us.\n",
            "I want you to find solutions to problems in life.\n",
            "This attention to my physical, emotional and spiritual studies, or just do nothing and recharge •To have some control over the outcome.\n",
            "It is a child, and thy princes eat in the time now, but they had no comforter.\n",
            "To have him know he was never healthy again.\n",
            "The crux of the sons of men, that God hath given him power to eat sweets.\n",
            "The next two steps will also be repeated over and then jump into working.\n",
            "Never in human history has the financial cushion to do more of a lasting emotional impact.\n",
            "But my guess is that life is to stop them!\n",
            "Writing your thoughts and environment.\n",
            "In the evening, play guitar with your values is through your internal dialogue.\n",
            "By doing other activities, one not only make you feel balanced instead of successfully balancing.\n",
            "I said in my visual field or the stars, be not filled with hearing.\n",
            "It’s not the rich will not be well with them and feel the connection you share.\n",
            "What profit hath a man is for the next day will bring.\n",
            "Does she want to start my own responsibilities.\n",
            "It’s not my heart from any joy; for my mind with learning — luckily I can think of “balance” as walking is a sore evil which I know as a favorite fruit while reading the best I can drop all that my body is relaxed.\n",
            "The bad, really sad news is that is higher than they.\n",
            "I returned, and saw under the heaven: A time to weep, and a great situation he is a unique human being, nor any fictional character who has achieved this ideal.\n",
            "Wake up to you in your life?\n",
            "• Rid yourself of what you need to work to fit all the days of darkness; for they consider not that which shall be: for who can eat, or who else can hasten hereunto, more than a few online Communities.\n",
            "The words of the windows be darkened, And the balls kept multiplying until eventually I dropped each and every event and challenge in our lives.\n",
            "But you don’t get to walk before the angel, that it is a very good feeling behind what she has consumed the sweets.\n",
            "And if one prevail against him, two shall withstand him; and a time to break down, and hasteth to his place where everything is bad” delving too much stuff can make that straight, which he may carry away in his time: as the one will lift up his fellow: but woe to him that is jumbled up, balance that gets “out of whack”, balance that gets “out of whack”, balance that is the end that man should rejoice in them of all his labour the days of his heart, wherein he hath not another to help you do what you are doing.\n",
            "What does life balance pyramid, we’ll see that they all get their turn in a life of thy youth, and walk in the city where they had spent more hours at his right hand; but a stranger or your time management we should strive for.\n",
            "The reason I was not alone and eventually helped the other areas of life.\n",
            "Seeing there be just men, unto whom it happeneth according to me is balancing others lives as well.\n",
            "We engaged in a strange land.\n",
            "Life can be a part of my human being.\n",
            "Because to every one of our time on it.\n",
            "The answer is “it depends”. It is stranger than we can keep it turning through better communication, compassion and teamwork.\n",
            "• Is there any thing before God: for who can tell him when it comes to diet and exercise - the feel good about it and 90% how we take it.\n",
            "The words of his vain life which he taketh under the sun, or the pitcher be broken at the prospect himself.\n",
            "It improves your attitude and gives you a backache, just say “No” to dinner parties.\n",
            "Stay On Top of Your Workload I try to juggle all the time to do and a time to every one that he wanteth nothing for his mouth, and yet other days more focus will be.\n",
            "Do you have to agree to everything and with family members.\n",
            "This is certainly not an easy time following my own pharmacy.\n",
            "Nobody wants to be born, and a wise child than an old and foolish king, who will guide you when you have on your choices, and I discovered that being over-emotional would indeed be my issue, and they were growing up -and perhaps needed us the stability required to balance our like people riding bicycles.\n",
            "There is a sore evil which I feel connected I also work on input.\n",
            "The words of truth.\n",
            "The Awesomeness of Life Balance?\n",
            "Prone to recession and the almond tree shall flourish, and the patient in spirit is better than one; because they have sought out many inventions.\n",
            "Stacey needs to be the proud owner of a fool will swallow up himself.\n",
            "This is great for the day.\n",
            "And even if I can acknowledge I have used it lots.\n",
            "Because to every purpose under the sun, with the changes rather than focusing on the roads.\n",
            "That means you’re going to be a top tier employee.\n",
            "For those who do not all go through life expecting certain things.\n",
            "Your high school English teacher told you exactly WHY we need to relax.\n",
            "My mom, my husband, my kids and “stuff”. Now I have a clear picture of the morning.\n",
            "• Stay physically, emotionally and mentally in the center, face to shine, and the reason I decided to consult a book or go looking around the web to see what shall be afraid to talk to ourselves, cause us to do than we can look when we are dealing with an optimistic attitude, get out of the whole matter: Fear God, and be love to dance, write, be with others.\n",
            "Who is as the wise are as goads, and as nails fastened by the way, his wisdom delivered the city; yet no man can find out acceptable words: and that which hath not laboured therein shall he leave it for me to notice small signs that the greatest barrier to individual happiness is not writing related.\n",
            "It goes back to you.”\n",
            "As much as possible.\n",
            "Visuals have more stuff and 2. focuses on the 90% of life, how we use that time.\n",
            "As I mentioned in an evil which I have long held strong views on.\n",
            "Better is the end of all the things we want happen.\n",
            "We have to “do everything at once.\n",
            "Since we live life based on our spiritual needs, and yet the appetite is not perfect, but I find myself more stressed.\n",
            "The little action steps here might redefine the situation in a habitual reaction and try and see if something new every day some. - Robert Fulghum Life Balance to me for a couple of years?\n",
            "Your high school English teacher told you that much money to sustain yourself anyway, so money should not be well with them or are you going through something a lot like athletic competition: if you do if you decided to turn to dust again.\n",
            "We learn to use it”. In Part 1 of the sons of men to be able to deal with the personal core values that I did some really good, creative, performance-type work in progress.\n",
            "Today I think that something great will come from that spot.\n",
            "For the living will lay it to move with great balance, like Sports stars have a post about Life Balance.\n",
            "And in pursuing interests which we aim to achieve it didn’t work out” you are not enjoying, then you have to have good relationships with friends and family when you have now.”\n",
            "He quite freely expressed love for a better person.\n",
            "For there is no remembrance of things that we are not heard.\n",
            "This is a poor and a time to truly express the creative passions, day in and share my opinion.\n",
            "He planned to spend on all the daughters of musick shall be well with the changes rather than my roles of mom, wife, etc…. I need to make sure you are motivated and inspired, when you perform at your life in his righteousness, and there was no profit under the sun: because I happen to really determine what this means for you, then you will not suffer him to see what shall be upon the earth.\n",
            "Staying focused and aware of what I think I’m in region 4.\n",
            "As long as that work and what shall be afraid of that person no longer felt like a prisoner.\n",
            "Wisdom strengtheneth the wise more than the beginning thereof: and the grasshopper shall be many.\n",
            "Spiritual development These 10 components are all functional definitions of the countenance the heart of the aging process!\n",
            "I promise you that everything improves with editing.\n",
            "I didn’t know you had done me wrong on the physical changes Too often people associate life balance pyramid means to us individually.\n",
            "It is not, though, if you don’t have any underlying medical conditions that take time to meditate or walk and be grateful while I am answering an email or looking into someone’s eyes while speaking with them.\n",
            "That’s when we begin to experience greater joy and pleasure in fools: pay that which befalleth the sons of men is fully set in order many proverbs.\n",
            "How do we achieve while working through a line with a high degree of freedom and a time to die; a time to weep, and a time of war, and a time to get, and a time to spend your time on it.\n",
            "Is your life balance group writing project, my first thought was “great idea, shame I know that the middle of a young girl growing up.\n",
            "Human psychology will force you get a chance.\n",
            "It is because of us, then it becomes our responsibility to constantly work on balancing different areas of your investment and you’ll find you don’t prepare yourself mentally AND physically, you’ll find you don’t need that much joy- provided you give that activity the priority, it deserves.\n",
            "The wind was the path we are so intricately connected to the end of a hologram is such that even the smallest piece of mind.\n",
            "For me, life balance pyramid, we’ll see that they expand the possibilities within us and serve as a shadow; because he knoweth not how to breathe through emotional episodes, so the emotion passes through pretty quickly and it is totally normal to have spent more time in the house of mourning; but the quality of our mother’s wax paper and make sure when I realized that you NEED to make sensible changes in our lives, but I can refresh my experience this need for control creates more tension, stress and imbalance.\n"
          ],
          "name": "stdout"
        }
      ]
    },
    {
      "cell_type": "markdown",
      "metadata": {
        "id": "SzxvCn1wqUD-"
      },
      "source": [
        "#I really love the line up there ^^^ that says \"the three legs of the bird.\" very funny. Also enjoy \"each of us so have dreams of a shaky life\" coming from a blending of religious text and a book about balance (the opposite of a shaky life). "
      ]
    }
  ]
}