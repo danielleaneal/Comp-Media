{
  "nbformat": 4,
  "nbformat_minor": 0,
  "metadata": {
    "colab": {
      "name": "Train a GPT-2 Text-Generating Model w/ GPU",
      "provenance": [],
      "collapsed_sections": []
    },
    "kernelspec": {
      "name": "python3",
      "display_name": "Python 3"
    },
    "accelerator": "GPU"
  },
  "cells": [
    {
      "cell_type": "code",
      "metadata": {
        "id": "KBkpRgBCBS2_",
        "colab": {
          "base_uri": "https://localhost:8080/"
        },
        "outputId": "0eabee9b-0e40-470b-85e4-6b0b959bbd51"
      },
      "source": [
        "%tensorflow_version 1.x\n",
        "!pip install -q gpt-2-simple\n",
        "import gpt_2_simple as gpt2\n",
        "from datetime import datetime\n",
        "from google.colab import files"
      ],
      "execution_count": 1,
      "outputs": [
        {
          "output_type": "stream",
          "text": [
            "TensorFlow 1.x selected.\n",
            "  Building wheel for gpt-2-simple (setup.py) ... \u001b[?25l\u001b[?25hdone\n",
            "WARNING:tensorflow:\n",
            "The TensorFlow contrib module will not be included in TensorFlow 2.0.\n",
            "For more information, please see:\n",
            "  * https://github.com/tensorflow/community/blob/master/rfcs/20180907-contrib-sunset.md\n",
            "  * https://github.com/tensorflow/addons\n",
            "  * https://github.com/tensorflow/io (for I/O related ops)\n",
            "If you depend on functionality not listed there, please file an issue.\n",
            "\n"
          ],
          "name": "stdout"
        }
      ]
    },
    {
      "cell_type": "code",
      "metadata": {
        "id": "sUmTooTW3osf",
        "colab": {
          "base_uri": "https://localhost:8080/"
        },
        "outputId": "d315875e-7a1d-4eee-b7e5-e5833fbdd741"
      },
      "source": [
        "!nvidia-smi"
      ],
      "execution_count": null,
      "outputs": [
        {
          "output_type": "stream",
          "text": [
            "Wed Jan 20 01:22:21 2021       \n",
            "+-----------------------------------------------------------------------------+\n",
            "| NVIDIA-SMI 460.32.03    Driver Version: 418.67       CUDA Version: 10.1     |\n",
            "|-------------------------------+----------------------+----------------------+\n",
            "| GPU  Name        Persistence-M| Bus-Id        Disp.A | Volatile Uncorr. ECC |\n",
            "| Fan  Temp  Perf  Pwr:Usage/Cap|         Memory-Usage | GPU-Util  Compute M. |\n",
            "|                               |                      |               MIG M. |\n",
            "|===============================+======================+======================|\n",
            "|   0  Tesla T4            Off  | 00000000:00:04.0 Off |                    0 |\n",
            "| N/A   31C    P8     9W /  70W |      0MiB / 15079MiB |      0%      Default |\n",
            "|                               |                      |                 ERR! |\n",
            "+-------------------------------+----------------------+----------------------+\n",
            "                                                                               \n",
            "+-----------------------------------------------------------------------------+\n",
            "| Processes:                                                                  |\n",
            "|  GPU   GI   CI        PID   Type   Process name                  GPU Memory |\n",
            "|        ID   ID                                                   Usage      |\n",
            "|=============================================================================|\n",
            "|  No running processes found                                                 |\n",
            "+-----------------------------------------------------------------------------+\n"
          ],
          "name": "stdout"
        }
      ]
    },
    {
      "cell_type": "code",
      "metadata": {
        "id": "P8wSlgXoDPCR",
        "colab": {
          "base_uri": "https://localhost:8080/"
        },
        "outputId": "7750c892-d272-4d0e-879e-8a562c4ba2aa"
      },
      "source": [
        "gpt2.download_gpt2(model_name=\"124M\")"
      ],
      "execution_count": 2,
      "outputs": [
        {
          "output_type": "stream",
          "text": [
            "Fetching checkpoint: 1.05Mit [00:00, 426Mit/s]                                                      \n",
            "Fetching encoder.json: 1.05Mit [00:00, 91.7Mit/s]                                                   \n",
            "Fetching hparams.json: 1.05Mit [00:00, 764Mit/s]                                                    \n",
            "Fetching model.ckpt.data-00000-of-00001: 498Mit [00:03, 144Mit/s]                                   \n",
            "Fetching model.ckpt.index: 1.05Mit [00:00, 421Mit/s]                                                \n",
            "Fetching model.ckpt.meta: 1.05Mit [00:00, 188Mit/s]                                                 \n",
            "Fetching vocab.bpe: 1.05Mit [00:00, 201Mit/s]                                                       \n"
          ],
          "name": "stderr"
        }
      ]
    },
    {
      "cell_type": "code",
      "metadata": {
        "id": "czKIxCI2ZXhi",
        "outputId": "aa19c20f-6b82-4904-bdb2-05d95f7c11ef",
        "colab": {
          "base_uri": "https://localhost:8080/"
        }
      },
      "source": [
        "from google.colab import drive\n",
        "drive.mount('/content/drive')"
      ],
      "execution_count": 3,
      "outputs": [
        {
          "output_type": "stream",
          "text": [
            "Mounted at /content/drive\n"
          ],
          "name": "stdout"
        }
      ]
    },
    {
      "cell_type": "code",
      "metadata": {
        "id": "puq4iC6vUAHc",
        "colab": {
          "base_uri": "https://localhost:8080/"
        },
        "outputId": "962acc61-bf34-426c-d312-15b82193449a"
      },
      "source": [
        "gpt2.mount_gdrive()"
      ],
      "execution_count": 4,
      "outputs": [
        {
          "output_type": "stream",
          "text": [
            "Drive already mounted at /content/drive; to attempt to forcibly remount, call drive.mount(\"/content/drive\", force_remount=True).\n"
          ],
          "name": "stdout"
        }
      ]
    },
    {
      "cell_type": "code",
      "metadata": {
        "id": "6OFnPCLADfll"
      },
      "source": [
        "file_name = \"Balance.txt\""
      ],
      "execution_count": 5,
      "outputs": []
    },
    {
      "cell_type": "code",
      "metadata": {
        "id": "-Z6okFD8VKtS"
      },
      "source": [
        "gpt2.copy_file_from_gdrive(file_name)"
      ],
      "execution_count": 6,
      "outputs": []
    },
    {
      "cell_type": "code",
      "metadata": {
        "id": "aeXshJM-Cuaf",
        "colab": {
          "base_uri": "https://localhost:8080/"
        },
        "outputId": "7e20847b-c479-4d04-efc6-a8f09ba530cd"
      },
      "source": [
        "sess = gpt2.start_tf_sess()\n",
        "\n",
        "gpt2.finetune(sess,\n",
        "              dataset=file_name,\n",
        "              model_name='124M',\n",
        "              steps=1000,\n",
        "              restore_from='fresh',\n",
        "              run_name='run1',\n",
        "              print_every=10,\n",
        "              sample_every=200,\n",
        "              save_every=500\n",
        "              )"
      ],
      "execution_count": 7,
      "outputs": [
        {
          "output_type": "stream",
          "text": [
            "WARNING:tensorflow:From /usr/local/lib/python3.6/dist-packages/gpt_2_simple/src/sample.py:17: where (from tensorflow.python.ops.array_ops) is deprecated and will be removed in a future version.\n",
            "Instructions for updating:\n",
            "Use tf.where in 2.0, which has the same broadcast rule as np.where\n",
            "Loading checkpoint models/124M/model.ckpt\n",
            "INFO:tensorflow:Restoring parameters from models/124M/model.ckpt\n"
          ],
          "name": "stdout"
        },
        {
          "output_type": "stream",
          "text": [
            "\r  0%|          | 0/1 [00:00<?, ?it/s]"
          ],
          "name": "stderr"
        },
        {
          "output_type": "stream",
          "text": [
            "Loading dataset...\n"
          ],
          "name": "stdout"
        },
        {
          "output_type": "stream",
          "text": [
            "100%|██████████| 1/1 [00:00<00:00,  2.82it/s]\n"
          ],
          "name": "stderr"
        },
        {
          "output_type": "stream",
          "text": [
            "dataset has 47961 tokens\n",
            "Training...\n",
            "[10 | 28.19] loss=3.05 avg=3.05\n",
            "[20 | 49.68] loss=2.90 avg=2.98\n",
            "[30 | 71.52] loss=2.51 avg=2.82\n",
            "[40 | 93.68] loss=2.24 avg=2.67\n",
            "[50 | 116.21] loss=2.26 avg=2.59\n",
            "[60 | 139.16] loss=1.98 avg=2.49\n",
            "[70 | 162.42] loss=1.66 avg=2.36\n",
            "[80 | 185.98] loss=1.44 avg=2.24\n",
            "[90 | 209.88] loss=1.64 avg=2.17\n",
            "[100 | 234.07] loss=1.11 avg=2.06\n",
            "[110 | 258.21] loss=0.85 avg=1.95\n",
            "[120 | 282.23] loss=0.54 avg=1.82\n",
            "[130 | 306.23] loss=0.62 avg=1.72\n",
            "[140 | 330.23] loss=0.37 avg=1.62\n",
            "[150 | 354.26] loss=0.25 avg=1.52\n",
            "[160 | 378.31] loss=0.35 avg=1.44\n",
            "[170 | 402.41] loss=0.30 avg=1.37\n",
            "[180 | 426.48] loss=0.18 avg=1.30\n",
            "[190 | 450.59] loss=0.12 avg=1.23\n",
            "[200 | 474.72] loss=0.18 avg=1.17\n",
            "======== SAMPLE 1 ========\n",
            " day for\n",
            "something long forgotten\n",
            "as I sit here and write without a thought to what might\n",
            "happen if I am truly gone.\n",
            "\n",
            "Life will bring us something different if we follow the Spirit of\n",
            "Mormons. We lie in mounds of scriptures and prophets, faith is our\n",
            "priorities. We have been given the gift of prophecy and we are to make\n",
            "such prophecies known. We live to see and we shall.\n",
            "\n",
            "If I were a member of the Church I would vow never to give more than\n",
            "the bare minimum. I firmly believe that to be true contribution WOIs. I\n",
            "also firmly believe that the greatest gift a member of the Church can bring to the table\n",
            "is a calling for faith. A gift which to me would equal time and again MEMORIZE.\n",
            "\n",
            "I have known Marty McFly for 15 years and he is still going strong. McFly taught me to\n",
            "look forward and I have faith in him to meet even greater challenges than I.\n",
            "He even encouraged me to try and become a preacher. Whoa….\n",
            "The wonders of the internet haveジジ increased my confidence level exponentially and I no longer have\n",
            "to dither as much as I used to. I can confidently say that I have more faith than I did 10\n",
            "years ago.\n",
            "\n",
            "I still stand behind my faith by seeing life and work in context. I see the\n",
            "compassionate nature of Smith & Waring it to Jesus gives me a false sense of security. I\n",
            "mirror and immerse myself in a life which is out of touch with my values. This is\n",
            "not a case of me choosing the past or the future. This is a case of seeing the\n",
            "world in perspective and not ignoring it.\n",
            "\n",
            "I guess as you grow older things take on new and unexpected forms. As you\n",
            "achieve more and more of these things, it becomes increasingly apparent that you are (are) really\n",
            "liveforming a life outside of the traditional Church style of comfort and occasional\n",
            "tea conversation. As you age you get the sense that you no longer have the luxury of\n",
            "telling your head doctor anything is up in the air. You are truly living a\n",
            "living dream.\n",
            "\n",
            "I guess as you get older you get the sense that you only really have a\n",
            "content life when you make choices which are often deeply personal and which\n",
            "never be seen as work.\n",
            "\n",
            "I guess as you get older the meaning of life starts to change. You no longer have to\n",
            "take days off to spend time with your kids and get regular phone\n",
            "callings. You can spend time with your family and be away from home for a few hours\n",
            "at a time. You don't have to go to church each day. You can\n",
            "go to a fast organized in a park or in a holy site.\n",
            "\n",
            "I see young women embracing the wonders of the internet like crazy. I tell\n",
            "myself-that she should get married and have 3 kids; get a nanny, and have 3\n",
            "households(Fitness, Home & Family) if she really wants to have that freedom. She\n",
            "can have whatever she wants. I tell myself-that if she really wants to be free she should\n",
            "be into work and certainly into being an actress. And if she really wants to be\n",
            "enjoyed at taking up all the things as a profession she should at some point get\n",
            "proper permission from her husband, get over herself and get cracking. There is\n",
            "no need for her to get married and have 3 kids; all that matters is that she\n",
            "has an income stream which will pay for herself if she really wants to pursue\n",
            "this kind of thing. If she really wants to be happy and content with her life the best she\n",
            "can\n",
            "be An Entrepreneur is for sure a happy and content human being.\n",
            "\n",
            "          “At a Glance” — Steve Jobs\n",
            "\n",
            "Jobs was a human being without a purpose. A man who thought he was making\n",
            "\\ was everything from a postage form to a machine for the\n",
            "           office. Jobs thought this out. He realized that whatever got\n",
            "           ordered was not actually any ordered products. It is what it is manufactured\n",
            "           todo/order that are most important to him.”\n",
            "\n",
            "“Order as Be a part of a Team, or Few as something to Be\n",
            "           Made?” Jobs was a pioneer in the sense that he gave\n",
            "everything that is made “ought” a try. He understood that whatever makes\n",
            "           his existing\n",
            "           pieces stand up mightily, that eventually a replacement may\n",
            "           be required. If only there was one such step...         Jobs planted a da\n",
            "           tree of life. Appreciative business owners, engineers, and inventors\n",
            "           \n",
            "\n",
            "[210 | 510.91] loss=0.11 avg=1.12\n",
            "[220 | 535.07] loss=0.09 avg=1.07\n",
            "[230 | 559.29] loss=0.08 avg=1.02\n",
            "[240 | 583.52] loss=0.07 avg=0.97\n",
            "[250 | 607.79] loss=0.07 avg=0.93\n",
            "[260 | 632.07] loss=0.09 avg=0.90\n",
            "[270 | 656.31] loss=0.07 avg=0.86\n",
            "[280 | 680.53] loss=0.07 avg=0.83\n",
            "[290 | 704.68] loss=0.08 avg=0.80\n",
            "[300 | 728.80] loss=0.06 avg=0.77\n",
            "[310 | 752.93] loss=0.08 avg=0.75\n",
            "[320 | 777.05] loss=0.10 avg=0.72\n",
            "[330 | 801.16] loss=0.09 avg=0.70\n",
            "[340 | 825.22] loss=0.07 avg=0.68\n",
            "[350 | 849.31] loss=0.06 avg=0.66\n",
            "[360 | 873.43] loss=0.06 avg=0.64\n",
            "[370 | 897.57] loss=0.07 avg=0.62\n",
            "[380 | 921.79] loss=0.05 avg=0.60\n",
            "[390 | 945.96] loss=0.06 avg=0.58\n",
            "[400 | 970.16] loss=0.06 avg=0.57\n",
            "======== SAMPLE 1 ========\n",
            " lap balance isn’t\n",
            "the hardest thing we can try. It’s practically impossible. And, because we are\n",
            "different, the other components of our lives can’t be combined to get the best\n",
            "results.\n",
            "\n",
            "So, start with the obvious question — can we balance our lives by using just the ones\n",
            "we have? Don’t forget to include questions about balancing life on the\n",
            "numbers page.\n",
            "\n",
            "If you’re thinking there isn’t a balance problem you can look into, that is — I\n",
            "have considered the notion that maybe we can see beyond the obvious question\n",
            "and become truly independent. I thought we’d be thrown into the\n",
            "knowing a little bit more by “knowing all things exist equally” than I was\n",
            "by “knowing that building a life balance system involves at least one life, not just\n",
            "one focused on just one component”.\n",
            "\n",
            "You see, sometimes you have to decide what is important and what is not. And what\n",
            "matters you are most passionate about. So, for instance, if you are passionate about\n",
            "family and care, and have worked on so many life balance systems, and have\n",
            "kept a journal with each one, it might be right for you to entry “family\n",
            "and care”.\n",
            "\n",
            "\n",
            "But, really, it could not be said. It could be said, really, really\n",
            "yes. It is, really, really easy to become attached to people and things we love.\n",
            "We may not be able to really change anything, but we can get very\n",
            " attached to things we love.\n",
            "\n",
            "A key aspect to any life balance approach is to keep in mind the\n",
            "theme of the book. You can also look at pictures and think, “It might not look like\n",
            "balance at all, but rather it feels like we are transferring our inner drive”.\n",
            "Here are a few of my favs:\n",
            "\n",
            "\n",
            "1.    Kidschool.us. Let me be clear - we don’t make money on our toys. We make\n",
            "       money off of selling them.\n",
            "       And because we have kids, we save money on\n",
            "        other things too.\n",
            "        And we raise the kids ourselves, we help each other\n",
            "        sell less expensive toys.\n",
            "        And then we sell them on our phone and help make their company\n",
            "         happen.\n",
            "        or we help make the internet a better place.\n",
            "         or we buy used clothes.\n",
            "         And so on.\n",
            "         And so on.\n",
            "And that brings me to “kidschool”.”. This group involves parents, teachers,\n",
            "         kids, and just about anyone else who is just starting out in\n",
            "         discipline.\n",
            "\n",
            "Some of the kids here might be suckas but they’ve never been in a situation where they\n",
            "         had to do anything to get what they want. They know how to\n",
            "         get what they want. If you think of a situation in which kids get\n",
            "         out of their lives, think of a situation in which you even think of\n",
            "         an answer would you choose to that problem would be overwhelmed\n",
            "          indeed.\n",
            "\n",
            "I will always remember as a child I sat comfortably in my father’s lap. I would\n",
            "gently hand crank the steering wheel. His laughter would run through my head.\n",
            "\n",
            "My father sat comfortably in his father’s lap. He would usually\n",
            "sit for a few moments, looking tired from his day. Then he would\n",
            "consistently smile and chuckle. For the better part of a half hour he would\n",
            "talk about his life choices and how he was making it. For the better part of a\n",
            "bitting hour he would stomp around the room, looking tired. I wonder if this reflects\n",
            "what a typical day like this does for you?\n",
            "\n",
            "\n",
            "\n",
            "\n",
            "\n",
            "For my own part I’m still figuring out how to put order back into the equation. After years of\n",
            "earning and learning, what seemed like an order to me seemed like a bolt of light\n",
            "cones struck me. I suddenly understood why I lived and where I work. I\n",
            "had been telling myself the obvious for years - that I was a writer - for fear of censorship.\n",
            "But then I**d saw the film. I had first come to the realization\n",
            "\n",
            "[410 | 1005.55] loss=0.07 avg=0.55\n",
            "[420 | 1029.68] loss=0.05 avg=0.54\n",
            "[430 | 1053.83] loss=0.05 avg=0.53\n",
            "[440 | 1077.97] loss=0.06 avg=0.51\n",
            "[450 | 1102.11] loss=0.05 avg=0.50\n",
            "[460 | 1126.22] loss=0.05 avg=0.49\n",
            "[470 | 1150.38] loss=0.05 avg=0.48\n",
            "[480 | 1174.47] loss=0.05 avg=0.46\n",
            "[490 | 1198.58] loss=0.07 avg=0.45\n",
            "[500 | 1222.69] loss=0.07 avg=0.44\n",
            "Saving checkpoint/run1/model-500\n",
            "[510 | 1249.44] loss=0.04 avg=0.43\n",
            "[520 | 1273.77] loss=0.04 avg=0.42\n",
            "[530 | 1297.96] loss=0.06 avg=0.42\n",
            "[540 | 1322.09] loss=0.05 avg=0.41\n",
            "[550 | 1346.22] loss=0.05 avg=0.40\n",
            "[560 | 1370.27] loss=0.04 avg=0.39\n",
            "[570 | 1394.34] loss=0.04 avg=0.38\n",
            "[580 | 1418.38] loss=0.05 avg=0.37\n",
            "[590 | 1442.44] loss=0.05 avg=0.37\n",
            "[600 | 1466.48] loss=0.05 avg=0.36\n",
            "======== SAMPLE 1 ========\n",
            " to\n",
            "\n",
            "   •    Balance is about accessing\n",
            "         the necessities of life as efficiently and efficiently as possible.\n",
            "          The more we can store in our bodies the the\n",
            "          longer and more easily we can move our various needs\n",
            "          towards the same goal.\n",
            "          Eating healthy foods and drinking fair trade\n",
            "         milk and honey.         and by all means, eat\n",
            "         whatever you want.        but don’t want to give up.\n",
            "\n",
            "          “To acquire this skill you must possess the\n",
            "          ability to eat healthy foods.”\n",
            "\n",
            "\n",
            "I read that and my first thought is, “That’s very, very, very true.” Because the ability to eat fair\n",
            "          without suffering a breaking in could be quite a feat for a\n",
            "          who has not yet lived enough to meet the daily requirement. A dream come true!”\n",
            "\n",
            "\n",
            "I experience the dreamland more than once. I am continually reminded of\n",
            "my “DREAMLLE” day. Of course, my dreams also include things that I cannot\n",
            "truely desire. For example, I do not want to own a car, nor can I afford one. I\n",
            "deserve a certain amount of luxury in my life, and so I try to gear up for\n",
            "such a trip. But, as far as I can tell, the only way to get there is by paying a small fee.\n",
            "\n",
            "So, when Stacey of Perfect Life Studios and I polled thousands of\n",
            "people over the past several years, over 80% of them claimed to have a dream that involved paying a small\n",
            " fee for a device that would allow you to see the full picture. Over 80% of the\n",
            "usages were given to me, and it turns out I was correct. The internet has given us\n",
            "an internet that is so small that even the smallest piece of our\n",
            "simply human reality is vast. Scale meets speed.\n",
            "\n",
            "When I was younger, I took amazing pleasure in exploring and learning about other people’s\n",
            "dreams. I loved stories about the wonders of the web and the wondrous\n",
            "changes that come with it. I even started writing them!\n",
            "\n",
            "\n",
            "One day, a stranger introduced himself. He was tall and slender, with\n",
            "a mirth that made me want to toss up. I can already hear him say, “Don’t worry, I’m\n",
            "not going to douse you in too much piss, so long as you stay out of your\n",
            "dare to get in.” Puzzled with the question, the tall, thin stranger\n",
            "was left no choice but to expand his dream. He later told\n",
            "historicalontology.com he had reached the conclusion that the universe was\n",
            "naturally expanding.\n",
            "\n",
            "\n",
            "I’ve always had a lot of faith in the Power of Creativity,’ I have always\n",
            "always felt the need to Inspire, to Inspire, to Create, to Start over With,’\n",
            "and to do what works for me (writing is my occupation). But as I mentioned in\n",
            "an earlier post about not wanting to become a top down or top to bottom\n",
            "chooser, the problem started with my parents. I was always\n",
            "distracted by my father’s lack of creativity, and he was always trying to\n",
            "make him money. I always thought I was a terrible kid, but he realized that was\n",
            "just a myth. He realized that my father was a fraud and spent his\n",
            "decorative days trying to sell toys. Then I discovered he was a successful\n",
            "actress whose career was over when she was very young. I have a great quote that\n",
            "explores this metaphor so much that I kept it from my future’s conclusion.\n",
            "\n",
            "\n",
            "I know that we humans tend to tend to two positions. We tend to think of the\n",
            "problem as being vocational or pathological. And we tend to think that way in order to be\n",
            "admirable. But, as far as I can tell, the problem has always been about\n",
            "the guy, the route, not the method. I always said the problem was one\n",
            "of time. PLANET. And I think that perhaps we can look at the problem in a different\n",
            "way. As I mentioned earlier, the universe is extremely small and doesn’t have a fixed\n",
            "time limit. It just stretches. You can just stand there and think for a minute, and then something\n",
            "there. The universe\n",
            "\n",
            "[610 | 1500.82] loss=0.06 avg=0.35\n",
            "[620 | 1524.92] loss=0.05 avg=0.35\n",
            "[630 | 1549.06] loss=0.05 avg=0.34\n",
            "[640 | 1573.19] loss=0.04 avg=0.33\n",
            "[650 | 1597.33] loss=0.05 avg=0.33\n",
            "[660 | 1621.50] loss=0.05 avg=0.32\n",
            "[670 | 1645.66] loss=0.03 avg=0.32\n",
            "[680 | 1669.79] loss=0.05 avg=0.31\n",
            "[690 | 1693.90] loss=0.05 avg=0.31\n",
            "[700 | 1718.04] loss=0.04 avg=0.30\n",
            "[710 | 1742.16] loss=0.05 avg=0.30\n",
            "[720 | 1766.28] loss=0.03 avg=0.29\n",
            "[730 | 1790.41] loss=0.06 avg=0.29\n",
            "[740 | 1814.53] loss=0.04 avg=0.28\n",
            "[750 | 1838.65] loss=0.04 avg=0.28\n",
            "[760 | 1862.78] loss=0.05 avg=0.27\n",
            "[770 | 1886.90] loss=0.04 avg=0.27\n",
            "[780 | 1911.01] loss=0.05 avg=0.26\n",
            "[790 | 1935.11] loss=0.04 avg=0.26\n",
            "[800 | 1959.23] loss=0.05 avg=0.26\n",
            "======== SAMPLE 1 ========\n",
            " out on this journey in a totally new light. With time, things will\n",
            "truly get a bit more beautiful etc. In order to successfully do this, you have to’t be afraid of\n",
            "becoming a victim of circumstance. In fact, at times I felt as if I was on the losing end of a fast losing battle.\n",
            "\n",
            "Myths and Folly\n",
            "Myths have plagued the past five years. I’m a victim of them.\n",
            "But I’m not the only one! I want to believe that because the legs are well-balanced that everything works as it should.\n",
            "Of course, this is just the tip of my iceberg. I want to understand and critique both the financial and\n",
            "performance grounds of the parties involved. I want to learn about the people, companies, organizations and\n",
            "charities that have been impacted by these activities. I want to talk about their stories and struggles with\n",
            "thembrickly phrases. I want to listen to them and feel the connection they’re building.\n",
            "\n",
            "I want to admire their creativity, their acumen and their resolve. I want to marvel at their\n",
            "emotional capital…all put to the test.\n",
            "\n",
            "The Bottom line\n",
            "While all this has been happening so fast and so hard at once, it’s not\n",
            "\n",
            "\n",
            "ending anything directly back to the person who caused it. Instead, it may just\n",
            "flow through us, connecting us to what we are meant to be connected to. Whether it is deep\n",
            "relationships, deep healing or simply moving through life, feeling and\n",
            "emotional communication waves, the experience is completely different once\n",
            "present.\n",
            "\n",
            "\n",
            "While this is all moving through us, our bodily perceptions are still being taught,\n",
            "and the choices we make still have an effect. Following the path of life\n",
            "sisterhood is about giving each of us the full experience of life balance. While our personal\n",
            "babies do get a little bit bigger, their experiences stay small and manageable. The\n",
            "rule of thumb here is that even if you get all of 5 of the 5 ways things are going, it won’t be enough to\n",
            "balance them. They will continue to take advantage of us even after we balance them off.aining life.\n",
            "\n",
            "\n",
            "Being able to let go of the big picture and really appreciate what we have\n",
            "is another story entirely. When we are not driven by goals, we fail to appreciate the intricacies\n",
            "inside of ourselves. When we are focused on delivering on what we have been formulated for the\n",
            "future, we fail to appreciate the individual components within our being. We are\n",
            "\n",
            "\n",
            "posturingly in our seats, legs are cold, or our phones are off. It seems we’re not connecting enough stories to\n",
            "get our head around the fact that life is about being connected, and being authentic to each\n",
            "of our lives. We are missing the point altogether. We are not designed the way we are designed to be.\n",
            "We are designed to be able to give and receive, and we are designed to give and receive, and receive, and\n",
            "accept.\n",
            "\n",
            "\n",
            "\n",
            "\n",
            "The important thing, as always, is the person(s) that break through the barrier. Those that\n",
            "allow the flow of thoughts, feelings, emotions, beliefs, and actions to flow. Those that\n",
            "encourage the flow of thoughts, feelings, emotions, and actions to persistently fail to\n",
            "exert contentment.\n",
            "\n",
            "\n",
            "Those that constantly point the finger of blame (or asinine, “んなに伝龍”) at those that are healthy and\n",
            "fulfilling their roles, those that advocate healing the body, those that\n",
            "promote self acceptance, those that seek to be seen as, and those that care about others’s well\n",
            "are just a few of the ways that we are stereotyped and misread. Be bold and daring and use your\n",
            "emotional might to push through bold ideas, and you’ll find that elusive success.\n",
            "\n",
            "\n",
            "You can’t ride the Tevas. You can’t ride the Tevas.\n",
            "\n",
            "\n",
            "Because we have become attached to things that we consider to be outside our field of\n",
            "interest, we really do have to take them for granted. The definition of “outside”? A zone of\n",
            "weakened, disillusioned people who feel they have to prove we can be trusted.\n",
            "\n",
            "When Stacy at Glamour magazine described living a simple life as 'simple', I\n",
            "was initially led to believe I was in a tough place. I had become so attached to the\n",
            "way I was dressed, my mind was turning to the way I was doing the dishes.”\n",
            "\n",
            "\n",
            "Learning to be a little girl\n",
            "    — By Lisa Leonard, Lisa Leonard Online\n",
            "\n",
            "I can’t be certain, but I’m pretty sure Jesus never sat down with a woman and gave\n",
            "his/her an erotic oral fixation on me.\n",
            "\n",
            "[810 | 1993.53] loss=0.04 avg=0.25\n",
            "[820 | 2017.62] loss=0.04 avg=0.25\n",
            "[830 | 2041.74] loss=0.03 avg=0.25\n",
            "[840 | 2065.86] loss=0.03 avg=0.24\n",
            "[850 | 2089.96] loss=0.04 avg=0.24\n",
            "[860 | 2114.09] loss=0.04 avg=0.23\n",
            "[870 | 2138.21] loss=0.04 avg=0.23\n",
            "[880 | 2162.32] loss=0.04 avg=0.23\n",
            "[890 | 2186.46] loss=0.04 avg=0.22\n",
            "[900 | 2210.58] loss=0.03 avg=0.22\n",
            "[910 | 2234.73] loss=0.04 avg=0.22\n",
            "[920 | 2258.85] loss=0.03 avg=0.22\n",
            "[930 | 2282.98] loss=0.04 avg=0.21\n",
            "[940 | 2307.05] loss=0.05 avg=0.21\n",
            "[950 | 2331.17] loss=0.03 avg=0.21\n",
            "[960 | 2355.24] loss=0.03 avg=0.20\n",
            "[970 | 2379.32] loss=0.04 avg=0.20\n",
            "[980 | 2403.41] loss=0.03 avg=0.20\n",
            "[990 | 2427.51] loss=0.03 avg=0.20\n",
            "[1000 | 2451.63] loss=0.03 avg=0.19\n",
            "Saving checkpoint/run1/model-1000\n",
            "WARNING:tensorflow:From /tensorflow-1.15.2/python3.6/tensorflow_core/python/training/saver.py:963: remove_checkpoint (from tensorflow.python.training.checkpoint_management) is deprecated and will be removed in a future version.\n",
            "Instructions for updating:\n",
            "Use standard file APIs to delete files with this prefix.\n"
          ],
          "name": "stdout"
        }
      ]
    },
    {
      "cell_type": "code",
      "metadata": {
        "id": "VHdTL8NDbAh3"
      },
      "source": [
        "gpt2.copy_checkpoint_to_gdrive(run_name='run1')"
      ],
      "execution_count": 8,
      "outputs": []
    },
    {
      "cell_type": "code",
      "metadata": {
        "id": "DCcx5u7sbPTD"
      },
      "source": [
        "gpt2.copy_checkpoint_from_gdrive(run_name='run1')"
      ],
      "execution_count": null,
      "outputs": []
    },
    {
      "cell_type": "code",
      "metadata": {
        "id": "-fxL77nvAMAX"
      },
      "source": [
        "sess = gpt2.start_tf_sess()\n",
        "gpt2.load_gpt2(sess, run_name='run1')"
      ],
      "execution_count": null,
      "outputs": []
    },
    {
      "cell_type": "code",
      "metadata": {
        "id": "4RNY6RBI9LmL",
        "colab": {
          "base_uri": "https://localhost:8080/"
        },
        "outputId": "4c69869c-9bbf-4140-8cda-e006735aa634"
      },
      "source": [
        "gpt2.generate(sess, run_name='run1')"
      ],
      "execution_count": 12,
      "outputs": [
        {
          "output_type": "stream",
          "text": [
            "The old saying, that\n",
            "           to whom it is given, is not true.\n",
            "For who knoweth whether thing be or thing not, or whether thing be or thing not, or whether thing existeth before us?\n",
            "Wherefore I perceive that there is nothing better, than that a man should rejoice in his own works; for that is his portion: for who shall bring him to see what shall be after him?\n",
            "So I returned, and considered all the oppressions that are done under the sun: and behold the tears of such as were oppressed, and they had no comforter; and on the side of their oppressors there was power; but they had no comforter.\n",
            "Wherefore I praised the dead which are already dead more than\n",
            "           the living which are yet alive.\n",
            "Yea, better is he than both they, which hath not yet been, who\n",
            "           hath not seen the evil work that is done under the sun.\n",
            "Again, I considered all travail, and every right work, that for this a man is envied of his neighbour. This is also vanity and vexation of spirit.\n",
            "The fool foldeth his hands together, and eateth his own flesh.\n",
            "Better is an handful with quietness, than both the hands full with travail and vexation of spirit.\n",
            "Then I returned, and I saw vanity under the sun.\n",
            "There is one alone, and there is not a second; yea, he hath neither child nor brother: yet is there no end of all his labour; neither is his eye satisfied with riches; neither saith he, For whom do I labour, and bereave my soul of good? This is also vanity, yea, it is a sore travail.\n",
            "Two are better than one; because they have a good reward for their labour.\n",
            "For if they fall, the one will lift up his fellow: but woe to him that is alone when he falleth; for he hath not another to help him up.\n",
            "Again, if two lie together, then they have heat: but how can\n",
            "           one be warm alone?\n",
            "And if one prevail against him, two shall withstand him; and a\n",
            "           threefold cord is not quickly broken.\n",
            "Better is a poor and a wise child than an old and foolish\n",
            "           king, who will no more be admonished.\n",
            "For out of prison he cometh to reign; whereas also he that is\n",
            "           born in his kingdom becometh poor.\n",
            "I considered all the living which walk under the sun, with the\n",
            "           second child that shall stand up in his stead.\n",
            "There is no end of all the people, even of all that have been\n",
            "           before them: they also that come after shall not rejoice in\n",
            "           him. Surely this also is vanity and vexation of spirit.\n",
            "Keep thy foot when thou goest to the house of God, and be more\n",
            "           ready to hear, than to give the sacrifice of fools: for they\n",
            "           consider not that they do evil.\n",
            "Be not rash with thy mouth, and let not thine heart be hasty\n",
            "           to utter any thing before God: for God is in heaven, and thou\n",
            "           upon earth: therefore let thy words be few.\n",
            "For a dream cometh through the multitude of business; and a\n",
            "           fool's voice is known by multitude of words.\n",
            "When thou vowest a vow unto God, defer not to pay it; for he\n",
            "           hath no pleasure in fools: pay that which thou hast vowed.\n",
            "Better is it that thou shouldest not vow, than that thou\n",
            "           shouldest vow and not pay.\n",
            "Suffer not thy mouth to cause thy flesh to sin; neither say thou before the angel, that it was an error: wherefore should God be angry at thy voice, and destroy the work of thine hands?\n",
            "21:005:007 For in the multitude of dreams and many words there are also divers vanities: but fear thou God.\n",
            "21:005:008 If thou seest the oppression of the poor, and violent perverting of judgment and justice in a province, marvel not at the matter: for he that is higher than the highest regardeth; and there be higher than they.\n",
            " Moreover the profit of the earth is for all: the king himself\n",
            "           is served by the field.\n",
            "He that loveth silver shall not be satisfied with silver; nor\n",
            "           he that loveth abundance with increase: this is also vanity.\n",
            "When goods increase, they are increased that eat them: and\n",
            "           what good is there to the owners thereof, saving the beholding\n",
            "           of them with their eyes?\n",
            "The sleep of a labouring man is\n"
          ],
          "name": "stdout"
        }
      ]
    },
    {
      "cell_type": "code",
      "metadata": {
        "id": "8DKMc0fiej4N",
        "colab": {
          "base_uri": "https://localhost:8080/"
        },
        "outputId": "30ddc265-488a-4c1c-8184-78bee02fd305"
      },
      "source": [
        "gpt2.generate(sess,\n",
        "              length=150,\n",
        "              temperature=0.4,\n",
        "              prefix=\"Why did the chicken cross the road?\",\n",
        "              nsamples=5,\n",
        "              batch_size=5\n",
        "              )"
      ],
      "execution_count": 42,
      "outputs": [
        {
          "output_type": "stream",
          "text": [
            "Why did the chicken cross the road? What was his destination\n",
            "look like? These are all questions that will be asked of you as you try to figure this out, and you begin to\n",
            "learn. By saying NO, we assure you there will not be many things that\n",
            "willnever happen to you, and we assure you there will be many things that\n",
            "will happen to us. We say NO because we are not sure what we would like. We\n",
            "are not sure if we would like, or if we would rather have been led\n",
            "by our fear, to think more deeply.\n",
            "\n",
            "We may decide to say NO, but we do not want to be led by our fear.\n",
            "\n",
            "We want to be able to do what we want, and when we want,\n",
            "====================\n",
            "Why did the chicken cross the road? What was the cause? I\n",
            "admit that I don’t always have an easy time following my own advice, because I\n",
            "inherited my Daddy’s Type A personality. I keep reminding myself of my resolve each\n",
            "day (reminding myself is at the top of my “to do” list). I promise it gets easier as you go\n",
            "along.\n",
            "\n",
            "\n",
            "Refresh Again — By Transformative Living\n",
            "\n",
            "I would install a refresh button for my mind and body. What would it feel like if we had\n",
            "a “refresh button” for our minds?\n",
            "\n",
            "On my computer if I think that something new may be in my Inbox or on the current\n",
            "internet page I just\n",
            "====================\n",
            "Why did the chicken cross the road? What was the cause? I\n",
            "found it interesting that after years of living and learning about living, breathing life, breathing breathing meditation,\n",
            "feeling the connection between your actions and the\n",
            "world around you, and living and breathing your life the right way, you\n",
            "had this Conference and you decided to give your whole life purpose and meaning behind your actions\n",
            "in the first place.\n",
            "\n",
            "You could tell when you had reached the right place, because the signs said, “Here”.\n",
            "\n",
            "You could tell when you had reached the right place, because the signs said, “Here”.\n",
            "\n",
            "You could tell when you had reached the right place, because the signs said, “Here”.\n",
            "\n",
            "====================\n",
            "Why did the chicken cross the road? What was the cause? I\n",
            "cannot remember the last time I saw my Daddy, he was a very quiet and reserved man. He\n",
            "was always going, going, going.\n",
            "\n",
            "At the age of 52, my Daddy was out of work and I was looking for work. I knew\n",
            "I wanted to be able to travel and afford it, so I\n",
            "had to find work that I loved to do. I did find work, however, it was\n",
            "not on a daily basis. I was always asked to do one or two things, and I\n",
            "never again would have been able to do them.\n",
            "\n",
            "The challenges of life balance always seem to apply to me, anyway. I now find it almost impossible to\n",
            "live\n",
            "====================\n",
            "Why did the chicken cross the road? What was the cause? I\n",
            "cannot remember the last time I saw my Daddy, he was a very successful man.\n",
            "\n",
            "At the age of 52, my Daddy was shot and killed in a drive-by shooting. He was 32.\n",
            "My Daddy was a devoted servant to God. A man of Godlike\n",
            "religion. A son of nobles, he was raised to be respected. He was\n",
            "athless and ungrateful. He was unselfish. He never wished to become.\n",
            "\n",
            "He never wished to be. He saw the value in living simple things like\n",
            "walking, and he gave his all to raise his son. By the time he was 18, his father had passed\n",
            "down from him.\n",
            "\n",
            "====================\n"
          ],
          "name": "stdout"
        }
      ]
    },
    {
      "cell_type": "markdown",
      "metadata": {
        "id": "zjjEN2Tafhl2"
      },
      "source": [
        "For bulk generation, you can generate a large amount of text to a file and sort out the samples locally on your computer. The next cell will generate a generated text file with a unique timestamp.\n",
        "\n",
        "You can rerun the cells as many times as you want for even more generated texts!"
      ]
    },
    {
      "cell_type": "code",
      "metadata": {
        "id": "Fa6p6arifSL0"
      },
      "source": [
        "gen_file = 'gpt2_gentext_{:%Y%m%d_%H%M%S}.txt'.format(datetime.utcnow())\n",
        "\n",
        "gpt2.generate_to_file(sess,\n",
        "                      destination_path=gen_file,\n",
        "                      length=500,\n",
        "                      temperature=0.7,\n",
        "                      nsamples=100,\n",
        "                      batch_size=20\n",
        "                      )"
      ],
      "execution_count": null,
      "outputs": []
    },
    {
      "cell_type": "code",
      "metadata": {
        "id": "0-LRex8lfv1g"
      },
      "source": [
        "# may have to run twice to get file to download\n",
        "files.download(gen_file)"
      ],
      "execution_count": null,
      "outputs": []
    },
    {
      "cell_type": "markdown",
      "metadata": {
        "id": "QQAN3M6RT7Kj"
      },
      "source": [
        "## Generate Text From The Pretrained Model\n",
        "\n",
        "If you want to generate text from the pretrained model, not a finetuned model, pass `model_name` to `gpt2.load_gpt2()` and `gpt2.generate()`.\n",
        "\n",
        "This is currently the only way to generate text from the 774M or 1558M models with this notebook."
      ]
    },
    {
      "cell_type": "code",
      "metadata": {
        "id": "hsUd_jHgUZnD",
        "colab": {
          "base_uri": "https://localhost:8080/",
          "height": 158
        },
        "outputId": "4e0c8a3f-3527-41c4-e3fe-3357f3f8f6c2"
      },
      "source": [
        "model_name = \"774M\"\n",
        "\n",
        "gpt2.download_gpt2(model_name=model_name)"
      ],
      "execution_count": null,
      "outputs": [
        {
          "output_type": "stream",
          "text": [
            "Fetching checkpoint: 1.05Mit [00:00, 354Mit/s]                                                      \n",
            "Fetching encoder.json: 1.05Mit [00:00, 131Mit/s]                                                    \n",
            "Fetching hparams.json: 1.05Mit [00:00, 279Mit/s]                                                    \n",
            "Fetching model.ckpt.data-00000-of-00001: 3.10Git [00:23, 131Mit/s]                                  \n",
            "Fetching model.ckpt.index: 1.05Mit [00:00, 380Mit/s]                                                \n",
            "Fetching model.ckpt.meta: 2.10Mit [00:00, 226Mit/s]                                                 \n",
            "Fetching vocab.bpe: 1.05Mit [00:00, 199Mit/s]                                                       \n"
          ],
          "name": "stderr"
        }
      ]
    },
    {
      "cell_type": "code",
      "metadata": {
        "id": "BAe4NpKNUj2C",
        "colab": {
          "base_uri": "https://localhost:8080/",
          "height": 124
        },
        "outputId": "b09bfe1d-2ff8-4b8a-fffb-273d28d5d4ae"
      },
      "source": [
        "sess = gpt2.start_tf_sess()\n",
        "\n",
        "gpt2.load_gpt2(sess, model_name=model_name)"
      ],
      "execution_count": null,
      "outputs": [
        {
          "output_type": "stream",
          "text": [
            "WARNING: Logging before flag parsing goes to stderr.\n",
            "W0828 18:37:58.571830 139905369159552 deprecation.py:323] From /usr/local/lib/python3.6/dist-packages/tensorflow/python/training/saver.py:1276: checkpoint_exists (from tensorflow.python.training.checkpoint_management) is deprecated and will be removed in a future version.\n",
            "Instructions for updating:\n",
            "Use standard file APIs to check for files with this prefix.\n"
          ],
          "name": "stderr"
        },
        {
          "output_type": "stream",
          "text": [
            "Loading pretrained model models/774M/model.ckpt\n"
          ],
          "name": "stdout"
        }
      ]
    },
    {
      "cell_type": "code",
      "metadata": {
        "id": "-xInIZKaU104",
        "colab": {
          "base_uri": "https://localhost:8080/",
          "height": 797
        },
        "outputId": "56348e28-7d08-45e3-c859-f26c0efd066d"
      },
      "source": [
        "gpt2.generate(sess,\n",
        "              model_name=model_name,\n",
        "              prefix=\"The secret of life is\",\n",
        "              length=100,\n",
        "              temperature=0.7,\n",
        "              top_p=0.9,\n",
        "              nsamples=5,\n",
        "              batch_size=5\n",
        "              )"
      ],
      "execution_count": null,
      "outputs": [
        {
          "output_type": "stream",
          "text": [
            "The secret of life is that it's really easy to make it complicated,\" said Bill Nye, the host of the popular science show \"Bill Nye the Science Guy.\" \"And this is one of the reasons why we all need to be smarter about science, because we can't keep up with the amazing things that are going on all the time.\"\n",
            "\n",
            "While Nye is correct that \"everything that's going on all the time\" is making the world a better place, he misses the point. This is not\n",
            "====================\n",
            "The secret of life is in the rhythm of the universe. It's not a mystery. It's not a mystery to me. It's the nature of the universe. It's the beauty of the universe. It's the way the universe works. It's the way the universe is. It's the way the universe is going to work. It's the way the universe is. It's the way the universe is. It's the way the universe is. It's the way the universe is. It's the way\n",
            "====================\n",
            "The secret of life is in the universe.\n",
            "\n",
            "\n",
            "-\n",
            "\n",
            "The Red Devil\n",
            "\n",
            "It's the end of the world as we know it, and the only thing that can save us is a band of super-powered individuals known as the Red Devil.\n",
            "\n",
            "\n",
            "The Red Devil is a group of super-powered individuals who are seeking the secret of life and the only way they know how to do it is by taking on the roles of a variety of different super-powered individuals, each of which has their own\n",
            "====================\n",
            "The secret of life is in the mixing of the elements, and it is the mixing of the elements that makes life possible.\"\n",
            "\n",
            "But in the world of food science, the idea of a \"complex\" or \"complexity\" is almost entirely imaginary.\n",
            "\n",
            "As a scientist, I'm fascinated by the question of how life first began.\n",
            "\n",
            "It's the question that drives my work and the work of the scientists who work on it.\n",
            "\n",
            "My current research is exploring how microbes work in the first moments\n",
            "====================\n",
            "The secret of life is the journey of life, the search for the truth.\n",
            "\n",
            "4.4.2. The last thing you know\n",
            "\n",
            "There is nothing more important than the last thing you know.\n",
            "\n",
            "4.4.3. The little things that make all the difference\n",
            "\n",
            "The little things that make all the difference.\n",
            "\n",
            "4.4.4. The truth is the best teacher\n",
            "\n",
            "The truth is the best teacher.\n",
            "\n",
            "4.4.5. The truth is what\n",
            "====================\n"
          ],
          "name": "stdout"
        }
      ]
    },
    {
      "cell_type": "markdown",
      "metadata": {
        "id": "ig-KVgkCDCKD"
      },
      "source": [
        "# Etcetera\n",
        "\n",
        "If the notebook has errors (e.g. GPU Sync Fail), force-kill the Colaboratory virtual machine and restart it with the command below:"
      ]
    },
    {
      "cell_type": "code",
      "metadata": {
        "id": "rIHiVP53FnsX"
      },
      "source": [
        "!kill -9 -1"
      ],
      "execution_count": null,
      "outputs": []
    },
    {
      "cell_type": "markdown",
      "metadata": {
        "id": "wmTXWNUygS5E"
      },
      "source": [
        "# LICENSE\n",
        "\n",
        "MIT License\n",
        "\n",
        "Copyright (c) 2019 Max Woolf\n",
        "\n",
        "Permission is hereby granted, free of charge, to any person obtaining a copy\n",
        "of this software and associated documentation files (the \"Software\"), to deal\n",
        "in the Software without restriction, including without limitation the rights\n",
        "to use, copy, modify, merge, publish, distribute, sublicense, and/or sell\n",
        "copies of the Software, and to permit persons to whom the Software is\n",
        "furnished to do so, subject to the following conditions:\n",
        "\n",
        "The above copyright notice and this permission notice shall be included in all\n",
        "copies or substantial portions of the Software.\n",
        "\n",
        "THE SOFTWARE IS PROVIDED \"AS IS\", WITHOUT WARRANTY OF ANY KIND, EXPRESS OR\n",
        "IMPLIED, INCLUDING BUT NOT LIMITED TO THE WARRANTIES OF MERCHANTABILITY,\n",
        "FITNESS FOR A PARTICULAR PURPOSE AND NONINFRINGEMENT. IN NO EVENT SHALL THE\n",
        "AUTHORS OR COPYRIGHT HOLDERS BE LIABLE FOR ANY CLAIM, DAMAGES OR OTHER\n",
        "LIABILITY, WHETHER IN AN ACTION OF CONTRACT, TORT OR OTHERWISE, ARISING FROM,\n",
        "OUT OF OR IN CONNECTION WITH THE SOFTWARE OR THE USE OR OTHER DEALINGS IN THE\n",
        "SOFTWARE."
      ]
    }
  ]
}