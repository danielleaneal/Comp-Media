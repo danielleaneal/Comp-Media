{
  "nbformat": 4,
  "nbformat_minor": 0,
  "metadata": {
    "kernelspec": {
      "display_name": "Python [default]",
      "language": "python",
      "name": "python3"
    },
    "language_info": {
      "codemirror_mode": {
        "name": "ipython",
        "version": 3
      },
      "file_extension": ".py",
      "mimetype": "text/x-python",
      "name": "python",
      "nbconvert_exporter": "python",
      "pygments_lexer": "ipython3",
      "version": "3.5.3"
    },
    "widgets": {
      "application/vnd.jupyter.widget-state+json": {
        "8c9b1fc7f7574c88a452fc4e70215810": {
          "model_module": "@jupyter-widgets/controls",
          "model_name": "VBoxModel",
          "state": {
            "_view_name": "VBoxView",
            "_dom_classes": [
              "widget-interact"
            ],
            "_model_name": "VBoxModel",
            "_view_module": "@jupyter-widgets/controls",
            "_model_module_version": "1.5.0",
            "_view_count": null,
            "_view_module_version": "1.5.0",
            "box_style": "",
            "layout": "IPY_MODEL_af74067c0622401cb00e8b1bdabfd85d",
            "_model_module": "@jupyter-widgets/controls",
            "children": [
              "IPY_MODEL_a8b44b4f6bcb4a2ebc0432a511b4d6d7",
              "IPY_MODEL_a31e9e8fd0fd4b1bbdd7330839e3e3db"
            ]
          }
        },
        "af74067c0622401cb00e8b1bdabfd85d": {
          "model_module": "@jupyter-widgets/base",
          "model_name": "LayoutModel",
          "state": {
            "_view_name": "LayoutView",
            "grid_template_rows": null,
            "right": null,
            "justify_content": null,
            "_view_module": "@jupyter-widgets/base",
            "overflow": null,
            "_model_module_version": "1.2.0",
            "_view_count": null,
            "flex_flow": null,
            "width": null,
            "min_width": null,
            "border": null,
            "align_items": null,
            "bottom": null,
            "_model_module": "@jupyter-widgets/base",
            "top": null,
            "grid_column": null,
            "overflow_y": null,
            "overflow_x": null,
            "grid_auto_flow": null,
            "grid_area": null,
            "grid_template_columns": null,
            "flex": null,
            "_model_name": "LayoutModel",
            "justify_items": null,
            "grid_row": null,
            "max_height": null,
            "align_content": null,
            "visibility": null,
            "align_self": null,
            "height": null,
            "min_height": null,
            "padding": null,
            "grid_auto_rows": null,
            "grid_gap": null,
            "max_width": null,
            "order": null,
            "_view_module_version": "1.2.0",
            "grid_template_areas": null,
            "object_position": null,
            "object_fit": null,
            "grid_auto_columns": null,
            "margin": null,
            "display": null,
            "left": null
          }
        },
        "a8b44b4f6bcb4a2ebc0432a511b4d6d7": {
          "model_module": "@jupyter-widgets/controls",
          "model_name": "IntSliderModel",
          "state": {
            "_view_name": "IntSliderView",
            "style": "IPY_MODEL_e980fa09543049d7ac149bf63d54c9e4",
            "_dom_classes": [],
            "description": "n",
            "step": 10,
            "_model_name": "IntSliderModel",
            "orientation": "horizontal",
            "max": 1000,
            "_view_module": "@jupyter-widgets/controls",
            "_model_module_version": "1.5.0",
            "value": 510,
            "_view_count": null,
            "disabled": false,
            "_view_module_version": "1.5.0",
            "min": 10,
            "continuous_update": true,
            "readout_format": "d",
            "description_tooltip": null,
            "readout": true,
            "_model_module": "@jupyter-widgets/controls",
            "layout": "IPY_MODEL_a6f8edb4645d4b26946f36d84250be79"
          }
        },
        "a31e9e8fd0fd4b1bbdd7330839e3e3db": {
          "model_module": "@jupyter-widgets/output",
          "model_name": "OutputModel",
          "state": {
            "_view_name": "OutputView",
            "msg_id": "",
            "_dom_classes": [],
            "_model_name": "OutputModel",
            "outputs": [
              {
                "output_type": "display_data",
                "metadata": {
                  "tags": [],
                  "needs_background": "light"
                },
                "image/png": "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\n",
                "text/plain": "<Figure size 432x288 with 1 Axes>"
              }
            ],
            "_view_module": "@jupyter-widgets/output",
            "_model_module_version": "1.0.0",
            "_view_count": null,
            "_view_module_version": "1.0.0",
            "layout": "IPY_MODEL_ccd8d1fb16ea419c9df222984f253afe",
            "_model_module": "@jupyter-widgets/output"
          }
        },
        "e980fa09543049d7ac149bf63d54c9e4": {
          "model_module": "@jupyter-widgets/controls",
          "model_name": "SliderStyleModel",
          "state": {
            "_view_name": "StyleView",
            "handle_color": null,
            "_model_name": "SliderStyleModel",
            "description_width": "",
            "_view_module": "@jupyter-widgets/base",
            "_model_module_version": "1.5.0",
            "_view_count": null,
            "_view_module_version": "1.2.0",
            "_model_module": "@jupyter-widgets/controls"
          }
        },
        "a6f8edb4645d4b26946f36d84250be79": {
          "model_module": "@jupyter-widgets/base",
          "model_name": "LayoutModel",
          "state": {
            "_view_name": "LayoutView",
            "grid_template_rows": null,
            "right": null,
            "justify_content": null,
            "_view_module": "@jupyter-widgets/base",
            "overflow": null,
            "_model_module_version": "1.2.0",
            "_view_count": null,
            "flex_flow": null,
            "width": null,
            "min_width": null,
            "border": null,
            "align_items": null,
            "bottom": null,
            "_model_module": "@jupyter-widgets/base",
            "top": null,
            "grid_column": null,
            "overflow_y": null,
            "overflow_x": null,
            "grid_auto_flow": null,
            "grid_area": null,
            "grid_template_columns": null,
            "flex": null,
            "_model_name": "LayoutModel",
            "justify_items": null,
            "grid_row": null,
            "max_height": null,
            "align_content": null,
            "visibility": null,
            "align_self": null,
            "height": null,
            "min_height": null,
            "padding": null,
            "grid_auto_rows": null,
            "grid_gap": null,
            "max_width": null,
            "order": null,
            "_view_module_version": "1.2.0",
            "grid_template_areas": null,
            "object_position": null,
            "object_fit": null,
            "grid_auto_columns": null,
            "margin": null,
            "display": null,
            "left": null
          }
        },
        "ccd8d1fb16ea419c9df222984f253afe": {
          "model_module": "@jupyter-widgets/base",
          "model_name": "LayoutModel",
          "state": {
            "_view_name": "LayoutView",
            "grid_template_rows": null,
            "right": null,
            "justify_content": null,
            "_view_module": "@jupyter-widgets/base",
            "overflow": null,
            "_model_module_version": "1.2.0",
            "_view_count": null,
            "flex_flow": null,
            "width": null,
            "min_width": null,
            "border": null,
            "align_items": null,
            "bottom": null,
            "_model_module": "@jupyter-widgets/base",
            "top": null,
            "grid_column": null,
            "overflow_y": null,
            "overflow_x": null,
            "grid_auto_flow": null,
            "grid_area": null,
            "grid_template_columns": null,
            "flex": null,
            "_model_name": "LayoutModel",
            "justify_items": null,
            "grid_row": null,
            "max_height": null,
            "align_content": null,
            "visibility": null,
            "align_self": null,
            "height": null,
            "min_height": null,
            "padding": null,
            "grid_auto_rows": null,
            "grid_gap": null,
            "max_width": null,
            "order": null,
            "_view_module_version": "1.2.0",
            "grid_template_areas": null,
            "object_position": null,
            "object_fit": null,
            "grid_auto_columns": null,
            "margin": null,
            "display": null,
            "left": null
          }
        }
      }
    },
    "colab": {
      "name": "RollingDice.ipynb",
      "provenance": []
    }
  },
  "cells": [
    {
      "cell_type": "markdown",
      "metadata": {
        "deletable": true,
        "editable": true,
        "id": "MSjL0AxvGUlg"
      },
      "source": [
        "# Tables illustration of working with computational models of probability\n",
        "\n",
        "## David Culler\n",
        "\n",
        "This notebook seeks to illustrate simple datascience.Table operations as part of a basic lesson on probability.\n",
        "\n",
        "Documentation on the datascience module is at [http://data8.org/datascience/index.html](http://data8.org/datascience/index.html) and of Tables as [http://data8.org/datascience/tables.html](http://data8.org/datascience/tables.html)."
      ]
    },
    {
      "cell_type": "code",
      "metadata": {
        "deletable": true,
        "editable": true,
        "id": "dhuSRsXPGUln",
        "outputId": "ffdbf6dd-88c4-4c0e-ac0a-231d6f56d755",
        "colab": {
          "base_uri": "https://localhost:8080/",
          "height": 123
        }
      },
      "source": [
        "# HIDDEN - generic nonsense for setting up environment\n",
        "from datascience import *\n",
        "%matplotlib inline\n",
        "import numpy as np\n",
        "import matplotlib.pyplot as plots\n",
        "plots.style.use('fivethirtyeight')\n",
        "from ipywidgets import interact\n",
        "# datascience version number of last run of this notebook\n",
        "version.__version__"
      ],
      "execution_count": 1,
      "outputs": [
        {
          "output_type": "stream",
          "text": [
            "/usr/local/lib/python3.6/dist-packages/datascience/tables.py:17: MatplotlibDeprecationWarning: The 'warn' parameter of use() is deprecated since Matplotlib 3.1 and will be removed in 3.3.  If any parameter follows 'warn', they should be pass as keyword, not positionally.\n",
            "  matplotlib.use('agg', warn=False)\n",
            "/usr/local/lib/python3.6/dist-packages/datascience/util.py:10: MatplotlibDeprecationWarning: The 'warn' parameter of use() is deprecated since Matplotlib 3.1 and will be removed in 3.3.  If any parameter follows 'warn', they should be pass as keyword, not positionally.\n",
            "  matplotlib.use('agg', warn=False)\n"
          ],
          "name": "stderr"
        },
        {
          "output_type": "execute_result",
          "data": {
            "application/vnd.google.colaboratory.intrinsic+json": {
              "type": "string"
            },
            "text/plain": [
              "'0.10.6'"
            ]
          },
          "metadata": {
            "tags": []
          },
          "execution_count": 1
        }
      ]
    },
    {
      "cell_type": "markdown",
      "metadata": {
        "deletable": true,
        "editable": true,
        "id": "eC8oEzVVGUlo"
      },
      "source": [
        "## Create a table as a model of a stochastic phenomenom\n",
        "\n",
        "Here we create a single column table as a computational model of a die\n",
        "with each element of the table containing the number of dots on the side.\n",
        "This illustrates the simplest way of constructing a table, [`Table.with_column`](http://data8.org/datascience/_autosummary/datascience.tables.Table.with_column.html#datascience.tables.Table.with_column).\n",
        "\n",
        "Then we define a function that models rolling a die.  This illustrates the\n",
        "use of [`Table.sample`](http://data8.org/datascience/_autosummary/datascience.tables.Table.sample.html#datascience.tables.Table.sample)\n",
        "to take random sample of a table."
      ]
    },
    {
      "cell_type": "code",
      "metadata": {
        "deletable": true,
        "editable": true,
        "id": "WYQGUMyGGUlp",
        "outputId": "d99da1c7-7295-4f40-f9db-78f7bde720b5",
        "colab": {
          "base_uri": "https://localhost:8080/",
          "height": 235
        }
      },
      "source": [
        "die = Table().with_column('side', [1,2,3,4,5,6])\n",
        "die"
      ],
      "execution_count": 2,
      "outputs": [
        {
          "output_type": "execute_result",
          "data": {
            "text/html": [
              "<table border=\"1\" class=\"dataframe\">\n",
              "    <thead>\n",
              "        <tr>\n",
              "            <th>side</th>\n",
              "        </tr>\n",
              "    </thead>\n",
              "    <tbody>\n",
              "        <tr>\n",
              "            <td>1   </td>\n",
              "        </tr>\n",
              "        <tr>\n",
              "            <td>2   </td>\n",
              "        </tr>\n",
              "        <tr>\n",
              "            <td>3   </td>\n",
              "        </tr>\n",
              "        <tr>\n",
              "            <td>4   </td>\n",
              "        </tr>\n",
              "        <tr>\n",
              "            <td>5   </td>\n",
              "        </tr>\n",
              "        <tr>\n",
              "            <td>6   </td>\n",
              "        </tr>\n",
              "    </tbody>\n",
              "</table>"
            ],
            "text/plain": [
              "side\n",
              "1\n",
              "2\n",
              "3\n",
              "4\n",
              "5\n",
              "6"
            ]
          },
          "metadata": {
            "tags": []
          },
          "execution_count": 2
        }
      ]
    },
    {
      "cell_type": "code",
      "metadata": {
        "deletable": true,
        "editable": true,
        "id": "lk_C-QJIGUlp"
      },
      "source": [
        "# Simulate the roll of a die by sampling from the die table\n",
        "def roll_die():\n",
        "    return die.sample(1)['side'][0]"
      ],
      "execution_count": 9,
      "outputs": []
    },
    {
      "cell_type": "code",
      "metadata": {
        "deletable": true,
        "editable": true,
        "id": "ii9FIySNGUlq",
        "outputId": "840ace8b-42a3-435d-8f97-9e8da2a5acce",
        "colab": {
          "base_uri": "https://localhost:8080/"
        }
      },
      "source": [
        "# roll it.  Try this over and over and see what you get\n",
        "roll_die()"
      ],
      "execution_count": 8,
      "outputs": [
        {
          "output_type": "execute_result",
          "data": {
            "text/plain": [
              "3"
            ]
          },
          "metadata": {
            "tags": []
          },
          "execution_count": 8
        }
      ]
    },
    {
      "cell_type": "markdown",
      "metadata": {
        "deletable": true,
        "editable": true,
        "id": "i3yZas_1GUlq"
      },
      "source": [
        "## Composition\n",
        "\n",
        "Build a computational model of rolling a die many times using our `roll_die` function as a building block.  It happens to utilize tables internally, but we have abstracted away from that.  Here it is a *black box* that yields a random roll of a die.  Again, we create a table to model the result."
      ]
    },
    {
      "cell_type": "code",
      "metadata": {
        "deletable": true,
        "editable": true,
        "id": "TEbVJFrbGUlr",
        "outputId": "2792e73f-9b33-41e0-adaf-7f9186407c6d",
        "colab": {
          "base_uri": "https://localhost:8080/",
          "height": 388
        }
      },
      "source": [
        "# Simulate rolling it many times, creating a table that records the rolls\n",
        "num_rolls = 600\n",
        "rolls = Table().with_column('roll', [roll_die() for i in range(num_rolls)])\n",
        "rolls"
      ],
      "execution_count": 12,
      "outputs": [
        {
          "output_type": "execute_result",
          "data": {
            "text/html": [
              "<table border=\"1\" class=\"dataframe\">\n",
              "    <thead>\n",
              "        <tr>\n",
              "            <th>roll</th>\n",
              "        </tr>\n",
              "    </thead>\n",
              "    <tbody>\n",
              "        <tr>\n",
              "            <td>5   </td>\n",
              "        </tr>\n",
              "        <tr>\n",
              "            <td>3   </td>\n",
              "        </tr>\n",
              "        <tr>\n",
              "            <td>1   </td>\n",
              "        </tr>\n",
              "        <tr>\n",
              "            <td>3   </td>\n",
              "        </tr>\n",
              "        <tr>\n",
              "            <td>3   </td>\n",
              "        </tr>\n",
              "        <tr>\n",
              "            <td>3   </td>\n",
              "        </tr>\n",
              "        <tr>\n",
              "            <td>4   </td>\n",
              "        </tr>\n",
              "        <tr>\n",
              "            <td>4   </td>\n",
              "        </tr>\n",
              "        <tr>\n",
              "            <td>2   </td>\n",
              "        </tr>\n",
              "        <tr>\n",
              "            <td>2   </td>\n",
              "        </tr>\n",
              "    </tbody>\n",
              "</table>\n",
              "<p>... (590 rows omitted)</p>"
            ],
            "text/plain": [
              "roll\n",
              "5\n",
              "3\n",
              "1\n",
              "3\n",
              "3\n",
              "3\n",
              "4\n",
              "4\n",
              "2\n",
              "2\n",
              "... (590 rows omitted)"
            ]
          },
          "metadata": {
            "tags": []
          },
          "execution_count": 12
        }
      ]
    },
    {
      "cell_type": "markdown",
      "metadata": {
        "deletable": true,
        "editable": true,
        "id": "c2mZ-PCAGUlr"
      },
      "source": [
        "## Visualization\n",
        "\n",
        "Above we see just the tip of the table.  And, of course, it would be tedious to look at all those rolls.  Instead, we want to look at some *descriptive statistics* of the process.  We can do that with [`Table.hist`](http://data8.org/datascience/_autosummary/datascience.tables.Table.hist.html#datascience.tables.Table.hist), which\n",
        "can be used to produce a histogram or a discrete distribution (the default, i.e., `normed = True`).\n",
        "\n",
        "The histogram of the rolls shows what we mean by 'uniform at random'.  All sides are equally likely to come up on each roll.  Thus the number of times each comes up in a large number of rolls is nearly constant.  But not quite.\n",
        "The rolls table it self won't change on its own, but every time you run the cell above, you will get a slightly different picture."
      ]
    },
    {
      "cell_type": "code",
      "metadata": {
        "deletable": true,
        "editable": true,
        "id": "8sHsfCmTGUls",
        "outputId": "c95de889-b83c-4a37-b819-b1bf03632184",
        "colab": {
          "base_uri": "https://localhost:8080/",
          "height": 281
        }
      },
      "source": [
        "bins = np.arange(1,8)\n",
        "rolls.hist(bins=bins, normed=False)"
      ],
      "execution_count": 13,
      "outputs": [
        {
          "output_type": "display_data",
          "data": {
            "image/png": "[encoded data removed]",
            "text/plain": [
              "<Figure size 432x288 with 1 Axes>"
            ]
          },
          "metadata": {
            "tags": [],
            "needs_background": "light"
          }
        }
      ]
    },
    {
      "cell_type": "code",
      "metadata": {
        "deletable": true,
        "editable": true,
        "id": "fnEO07TnGUls",
        "outputId": "36ad5377-b116-44d9-c1fa-066a087831c2",
        "colab": {
          "base_uri": "https://localhost:8080/",
          "height": 281
        }
      },
      "source": [
        "# Normalize this gives a distribution.  The probability of each side appearing.  1/6.\n",
        "rolls.hist(normed=True,bins=bins)"
      ],
      "execution_count": 14,
      "outputs": [
        {
          "output_type": "display_data",
          "data": {
            "image/png": "[encoded data removed]",
            "text/plain": [
              "<Figure size 432x288 with 1 Axes>"
            ]
          },
          "metadata": {
            "tags": [],
            "needs_background": "light"
          }
        }
      ]
    },
    {
      "cell_type": "markdown",
      "metadata": {
        "deletable": true,
        "editable": true,
        "id": "5gyZj5brGUls"
      },
      "source": [
        "## Computing on distributions\n",
        "\n",
        "While visualization is useful for humans in the data exploration process, everything you see you should be able to compute upon.  The analog of `Table.hist` that yields a table, rather than a chart is [`table.bin`](http://data8.org/datascience/_autosummary/datascience.tables.Table.bin.html#datascience.tables.Table.bin).  It returns a new table with a row for each bin.\n",
        "\n",
        "Here we also illustrate doing some computing on the distribution table:\n",
        "* A column of a table is accessed using the standard python *get* syntax: `<object> [ <key> ]`. This actually yields an object that is a [numpy array](https://docs.scipy.org/doc/numpy-dev/user/quickstart.html), but part of the beauty of tables is you don't have to worry about what that is. The beauty of numpy arrays is that you can work with them pretty much like values, i.e., you can scale them by a constant, add them together and things like that.\n",
        "* A column is inserted in the table using the standard python set syntax for objects `<object> [ <key> ] = <value>`. Note that this modifies the table, adding a column if it does not exist ro updating it if it does.  The transformations on tables are *functional*, they produce new tables.  Set treats a table like an object and modifies it."
      ]
    },
    {
      "cell_type": "code",
      "metadata": {
        "deletable": true,
        "editable": true,
        "id": "9jkp8TFwGUlt",
        "outputId": "7d7e4298-3688-47de-d1eb-8f97a8281389",
        "colab": {
          "base_uri": "https://localhost:8080/",
          "height": 235
        }
      },
      "source": [
        "roll_dist = rolls.bin(normed=True,bins=bins).take(range(6))\n",
        "roll_dist"
      ],
      "execution_count": 16,
      "outputs": [
        {
          "output_type": "execute_result",
          "data": {
            "text/html": [
              "<table border=\"1\" class=\"dataframe\">\n",
              "    <thead>\n",
              "        <tr>\n",
              "            <th>bin</th> <th>roll density</th>\n",
              "        </tr>\n",
              "    </thead>\n",
              "    <tbody>\n",
              "        <tr>\n",
              "            <td>1   </td> <td>0.158333    </td>\n",
              "        </tr>\n",
              "        <tr>\n",
              "            <td>2   </td> <td>0.163333    </td>\n",
              "        </tr>\n",
              "        <tr>\n",
              "            <td>3   </td> <td>0.183333    </td>\n",
              "        </tr>\n",
              "        <tr>\n",
              "            <td>4   </td> <td>0.16        </td>\n",
              "        </tr>\n",
              "        <tr>\n",
              "            <td>5   </td> <td>0.145       </td>\n",
              "        </tr>\n",
              "        <tr>\n",
              "            <td>6   </td> <td>0.19        </td>\n",
              "        </tr>\n",
              "    </tbody>\n",
              "</table>"
            ],
            "text/plain": [
              "bin  | roll density\n",
              "1    | 0.158333\n",
              "2    | 0.163333\n",
              "3    | 0.183333\n",
              "4    | 0.16\n",
              "5    | 0.145\n",
              "6    | 0.19"
            ]
          },
          "metadata": {
            "tags": []
          },
          "execution_count": 16
        }
      ]
    },
    {
      "cell_type": "code",
      "metadata": {
        "deletable": true,
        "editable": true,
        "id": "VAhr1vWBGUlt",
        "outputId": "c7111dee-e4c8-4803-e6f8-b471f8489a64",
        "colab": {
          "base_uri": "https://localhost:8080/"
        }
      },
      "source": [
        "roll_dist['roll density']"
      ],
      "execution_count": 17,
      "outputs": [
        {
          "output_type": "execute_result",
          "data": {
            "text/plain": [
              "array([0.15833333, 0.16333333, 0.18333333, 0.16      , 0.145     ,\n",
              "       0.19      ])"
            ]
          },
          "metadata": {
            "tags": []
          },
          "execution_count": 17
        }
      ]
    },
    {
      "cell_type": "code",
      "metadata": {
        "deletable": true,
        "editable": true,
        "id": "7wc23zUBGUlt",
        "outputId": "0c47fe45-bac1-4ebe-dff4-a2673d10329f",
        "colab": {
          "base_uri": "https://localhost:8080/",
          "height": 235
        }
      },
      "source": [
        "roll_dist['Variation'] = (roll_dist['roll density'] - 1/6)/(1/6)\n",
        "roll_dist"
      ],
      "execution_count": 18,
      "outputs": [
        {
          "output_type": "execute_result",
          "data": {
            "text/html": [
              "<table border=\"1\" class=\"dataframe\">\n",
              "    <thead>\n",
              "        <tr>\n",
              "            <th>bin</th> <th>roll density</th> <th>Variation</th>\n",
              "        </tr>\n",
              "    </thead>\n",
              "    <tbody>\n",
              "        <tr>\n",
              "            <td>1   </td> <td>0.158333    </td> <td>-0.05    </td>\n",
              "        </tr>\n",
              "        <tr>\n",
              "            <td>2   </td> <td>0.163333    </td> <td>-0.02    </td>\n",
              "        </tr>\n",
              "        <tr>\n",
              "            <td>3   </td> <td>0.183333    </td> <td>0.1      </td>\n",
              "        </tr>\n",
              "        <tr>\n",
              "            <td>4   </td> <td>0.16        </td> <td>-0.04    </td>\n",
              "        </tr>\n",
              "        <tr>\n",
              "            <td>5   </td> <td>0.145       </td> <td>-0.13    </td>\n",
              "        </tr>\n",
              "        <tr>\n",
              "            <td>6   </td> <td>0.19        </td> <td>0.14     </td>\n",
              "        </tr>\n",
              "    </tbody>\n",
              "</table>"
            ],
            "text/plain": [
              "bin  | roll density | Variation\n",
              "1    | 0.158333     | -0.05\n",
              "2    | 0.163333     | -0.02\n",
              "3    | 0.183333     | 0.1\n",
              "4    | 0.16         | -0.04\n",
              "5    | 0.145        | -0.13\n",
              "6    | 0.19         | 0.14"
            ]
          },
          "metadata": {
            "tags": []
          },
          "execution_count": 18
        }
      ]
    },
    {
      "cell_type": "code",
      "metadata": {
        "deletable": true,
        "editable": true,
        "id": "8RnBag5bGUlt",
        "outputId": "f43ed9ee-b64c-437b-cc5f-fa47a5b44a29",
        "colab": {
          "base_uri": "https://localhost:8080/"
        }
      },
      "source": [
        "# What is the average value of a roll?\n",
        "sum(roll_dist['bin']*roll_dist['roll density'])"
      ],
      "execution_count": 19,
      "outputs": [
        {
          "output_type": "execute_result",
          "data": {
            "text/plain": [
              "3.54"
            ]
          },
          "metadata": {
            "tags": []
          },
          "execution_count": 19
        }
      ]
    },
    {
      "cell_type": "code",
      "metadata": {
        "deletable": true,
        "editable": true,
        "id": "Cd4p3V2aGUlu",
        "outputId": "fdb3e920-3a58-4100-835b-558a99abc12a",
        "colab": {
          "base_uri": "https://localhost:8080/"
        }
      },
      "source": [
        "np.mean(rolls['roll'])"
      ],
      "execution_count": 20,
      "outputs": [
        {
          "output_type": "execute_result",
          "data": {
            "text/plain": [
              "3.54"
            ]
          },
          "metadata": {
            "tags": []
          },
          "execution_count": 20
        }
      ]
    },
    {
      "cell_type": "markdown",
      "metadata": {
        "deletable": true,
        "editable": true,
        "id": "AiSj8GjeGUlu"
      },
      "source": [
        "## Statistical thinking\n",
        "\n",
        "They say \"life is about rolling dice\".  The statistical perspective on the `rolls` table above would be captured by sampling many times from the die table.  We can capture than naturally in a computational abstraction that rolls a die `n` times."
      ]
    },
    {
      "cell_type": "code",
      "metadata": {
        "collapsed": true,
        "deletable": true,
        "editable": true,
        "id": "cARdPGAzGUlu"
      },
      "source": [
        "# Life is about rolling lots of dice.\n",
        "# Simulate rolling n dice.\n",
        "def roll(n):\n",
        "    \"\"\"Roll n die.  Return a table of the rolls\"\"\"\n",
        "    return die.sample(n, with_replacement=True)"
      ],
      "execution_count": 22,
      "outputs": []
    },
    {
      "cell_type": "code",
      "metadata": {
        "deletable": true,
        "editable": true,
        "id": "se6nsS1_GUlv",
        "outputId": "26148769-6c93-4ac5-c257-92d375fd83b2",
        "colab": {
          "base_uri": "https://localhost:8080/",
          "height": 359
        }
      },
      "source": [
        "# try it out.  many times\n",
        "roll(10)"
      ],
      "execution_count": 23,
      "outputs": [
        {
          "output_type": "execute_result",
          "data": {
            "text/html": [
              "<table border=\"1\" class=\"dataframe\">\n",
              "    <thead>\n",
              "        <tr>\n",
              "            <th>side</th>\n",
              "        </tr>\n",
              "    </thead>\n",
              "    <tbody>\n",
              "        <tr>\n",
              "            <td>1   </td>\n",
              "        </tr>\n",
              "        <tr>\n",
              "            <td>6   </td>\n",
              "        </tr>\n",
              "        <tr>\n",
              "            <td>4   </td>\n",
              "        </tr>\n",
              "        <tr>\n",
              "            <td>4   </td>\n",
              "        </tr>\n",
              "        <tr>\n",
              "            <td>6   </td>\n",
              "        </tr>\n",
              "        <tr>\n",
              "            <td>4   </td>\n",
              "        </tr>\n",
              "        <tr>\n",
              "            <td>5   </td>\n",
              "        </tr>\n",
              "        <tr>\n",
              "            <td>6   </td>\n",
              "        </tr>\n",
              "        <tr>\n",
              "            <td>5   </td>\n",
              "        </tr>\n",
              "        <tr>\n",
              "            <td>4   </td>\n",
              "        </tr>\n",
              "    </tbody>\n",
              "</table>"
            ],
            "text/plain": [
              "side\n",
              "1\n",
              "6\n",
              "4\n",
              "4\n",
              "6\n",
              "4\n",
              "5\n",
              "6\n",
              "5\n",
              "4"
            ]
          },
          "metadata": {
            "tags": []
          },
          "execution_count": 23
        }
      ]
    },
    {
      "cell_type": "markdown",
      "metadata": {
        "deletable": true,
        "editable": true,
        "id": "rT-GBBqaGUlv"
      },
      "source": [
        "## Interactive visualization\n",
        "\n",
        "The central concept of computational thinking - *abstraction*. Here it is illustrated again by wrapping up the process of rolling many die and visualizing the resulting distribution into a function.\n",
        "\n",
        "Once we have it as a function, we can illustrate the central concept of inferential thinking - *the law of large numbers* - through interactive visualization.  When a dies is rolled only a few times, the resulting distribution may be very uneven.  But when it is rolled many many times, it is extremely rare for the result to be uneven."
      ]
    },
    {
      "cell_type": "code",
      "metadata": {
        "collapsed": true,
        "deletable": true,
        "editable": true,
        "id": "auUbHKuyGUlw"
      },
      "source": [
        "def show_die_dist(n):\n",
        "    \"\"\"Roll a die n times and show the distribution of sides that appear.\"\"\"\n",
        "    roll(n).hist(bins=np.arange(1,8))"
      ],
      "execution_count": 24,
      "outputs": []
    },
    {
      "cell_type": "code",
      "metadata": {
        "deletable": true,
        "editable": true,
        "id": "Sp6CTu-8GUlx",
        "outputId": "f201cadd-8d50-4c4f-9b0a-4d7b0dcb7180",
        "colab": {
          "base_uri": "https://localhost:8080/",
          "height": 330,
          "referenced_widgets": [
            "8c9b1fc7f7574c88a452fc4e70215810",
            "af74067c0622401cb00e8b1bdabfd85d",
            "a8b44b4f6bcb4a2ebc0432a511b4d6d7",
            "a31e9e8fd0fd4b1bbdd7330839e3e3db",
            "e980fa09543049d7ac149bf63d54c9e4",
            "a6f8edb4645d4b26946f36d84250be79",
            "ccd8d1fb16ea419c9df222984f253afe"
          ]
        }
      },
      "source": [
        "# We can now use the ipywidget we had included at the beginning.\n",
        "interact(show_die_dist, n=(10, 1000, 10))"
      ],
      "execution_count": 25,
      "outputs": [
        {
          "output_type": "display_data",
          "data": {
            "application/vnd.jupyter.widget-view+json": {
              "model_id": "8c9b1fc7f7574c88a452fc4e70215810",
              "version_minor": 0,
              "version_major": 2
            },
            "text/plain": [
              "interactive(children=(IntSlider(value=500, description='n', max=1000, min=10, step=10), Output()), _dom_classe…"
            ]
          },
          "metadata": {
            "tags": []
          }
        },
        {
          "output_type": "execute_result",
          "data": {
            "text/plain": [
              "<function __main__.show_die_dist>"
            ]
          },
          "metadata": {
            "tags": []
          },
          "execution_count": 25
        }
      ]
    },
    {
      "cell_type": "markdown",
      "metadata": {
        "deletable": true,
        "editable": true,
        "id": "CiPx-6CsGUlx"
      },
      "source": [
        "## Likelihood\n",
        "\n",
        "If we really roll the dice several times in life, what might we expect the overall outcome to be like?\n",
        "\n",
        "We can extend our computational approach further by simulating the rolling of several die many many times. "
      ]
    },
    {
      "cell_type": "code",
      "metadata": {
        "collapsed": true,
        "deletable": true,
        "editable": true,
        "id": "DPstjf1iGUlx"
      },
      "source": [
        "num_die = 10"
      ],
      "execution_count": null,
      "outputs": []
    },
    {
      "cell_type": "code",
      "metadata": {
        "collapsed": true,
        "deletable": true,
        "editable": true,
        "id": "E2eutYyjGUlx"
      },
      "source": [
        "num_rolls = 100"
      ],
      "execution_count": null,
      "outputs": []
    },
    {
      "cell_type": "code",
      "metadata": {
        "deletable": true,
        "editable": true,
        "id": "EM6JiyoLGUlx"
      },
      "source": [
        "# Remember - referencing a column gives an array\n",
        "roll(num_die)['side']"
      ],
      "execution_count": null,
      "outputs": []
    },
    {
      "cell_type": "code",
      "metadata": {
        "deletable": true,
        "editable": true,
        "id": "YAU0ZxcOGUly"
      },
      "source": [
        "# Simulate rolling num_die dice num_rolls times and build a table of the result\n",
        "rolls = Table([\"die_\"+str(i) for i in range(num_die)]).with_rows([roll(num_die)['side'] for i in range(num_rolls)])\n",
        "rolls"
      ],
      "execution_count": null,
      "outputs": []
    },
    {
      "cell_type": "code",
      "metadata": {
        "deletable": true,
        "editable": true,
        "id": "vnMyFHZvGUly"
      },
      "source": [
        "# If we think of each row as a life experience, what is the life like?\n",
        "label = \"{}_dice\".format(num_die)\n",
        "sum_rolls = Table().with_column(label, [np.sum(roll(num_die)['side']) for i in range(num_rolls)])\n",
        "sum_rolls.hist(range=[10,6*num_die], normed=False)\n",
        "sum_rolls.stats()"
      ],
      "execution_count": null,
      "outputs": []
    },
    {
      "cell_type": "code",
      "metadata": {
        "deletable": true,
        "editable": true,
        "id": "bP7DdSP2GUly"
      },
      "source": [
        "# Or as a distribution\n",
        "sum_rolls.hist(range=[10,6*num_die],normed=True)"
      ],
      "execution_count": null,
      "outputs": []
    },
    {
      "cell_type": "code",
      "metadata": {
        "deletable": true,
        "editable": true,
        "id": "VWLA92MvGUlz"
      },
      "source": [
        "# Or normalize by the number of die ...\n",
        "#\n",
        "Table().with_column(label, [np.sum(roll(num_die)['side'])/num_die for i in range(num_rolls)]).hist(normed=False)"
      ],
      "execution_count": null,
      "outputs": []
    },
    {
      "cell_type": "markdown",
      "metadata": {
        "deletable": true,
        "editable": true,
        "id": "iTnY6wL-GUlz"
      },
      "source": [
        "In probability theory, the central limit theorem (CLT) states that, given certain conditions, the arithmetic mean of a sufficiently large number of iterates of independent random variables, each with a well-defined expected value and well-defined variance, will be approximately normally distributed, regardless of the underlying distribution."
      ]
    },
    {
      "cell_type": "code",
      "metadata": {
        "collapsed": true,
        "deletable": true,
        "editable": true,
        "id": "cVwiUXn6GUl0"
      },
      "source": [
        ""
      ],
      "execution_count": null,
      "outputs": []
    }
  ]
}