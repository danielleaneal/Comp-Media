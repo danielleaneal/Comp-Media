{
  "nbformat": 4,
  "nbformat_minor": 0,
  "metadata": {
    "colab": {
      "name": "Untitled1.ipynb",
      "provenance": [],
      "mount_file_id": "1XUJuALXlPWxDi0XvCRVsgh_Yil94Ll9u",
      "authorship_tag": "ABX9TyNHdxk+GG8yNQKPgkRkHhFa",
      "include_colab_link": true
    },
    "kernelspec": {
      "name": "python3",
      "display_name": "Python 3"
    }
  },
  "cells": [
    {
      "cell_type": "markdown",
      "metadata": {
        "id": "view-in-github",
        "colab_type": "text"
      },
      "source": [
        "<a href=\"https://colab.research.google.com/github/danielleaneal/Comp-Media/blob/main/Jan19.ipynb\" target=\"_parent\"><img src=\"https://colab.research.google.com/assets/colab-badge.svg\" alt=\"Open In Colab\"/></a>"
      ]
    },
    {
      "cell_type": "code",
      "metadata": {
        "id": "Ia6B7rI835Ay"
      },
      "source": [
        "#Trying to save this file to my Github Repository I made for this class\n",
        "# sample from class at \n",
        "#https://colab.research.google.com/drive/1q8X3lV1RqLWhktxZCpBay8_MnulxE9cO?usp=sharing#scrollTo=oJjC-OomSmGf"
      ],
      "execution_count": null,
      "outputs": []
    },
    {
      "cell_type": "code",
      "metadata": {
        "colab": {
          "base_uri": "https://localhost:8080/"
        },
        "id": "ukXLxl8XVeOx",
        "outputId": "95b25a8f-7652-4bab-dbd1-429e8e8c3d9d"
      },
      "source": [
        "!pip install markovify"
      ],
      "execution_count": 10,
      "outputs": [
        {
          "output_type": "stream",
          "text": [
            "Requirement already satisfied: markovify in /usr/local/lib/python3.6/dist-packages (0.8.3)\n",
            "Requirement already satisfied: unidecode in /usr/local/lib/python3.6/dist-packages (from markovify) (1.1.2)\n"
          ],
          "name": "stdout"
        }
      ]
    },
    {
      "cell_type": "code",
      "metadata": {
        "id": "FnkbjskEVxAC"
      },
      "source": [
        "import markovify"
      ],
      "execution_count": 11,
      "outputs": []
    },
    {
      "cell_type": "code",
      "metadata": {
        "id": "F5aqTmf5XA0K"
      },
      "source": [
        "with open(\"Ecclesiastes-1.txt\") as f:\n",
        "  text = f.read()"
      ],
      "execution_count": 21,
      "outputs": []
    },
    {
      "cell_type": "code",
      "metadata": {
        "colab": {
          "base_uri": "https://localhost:8080/"
        },
        "id": "gASAPHBWbzax",
        "outputId": "c9ab30a6-53d7-46c0-84f6-bad1d7d7c5e0"
      },
      "source": [
        "with open(\"Balance.txt\") as f:\n",
        "  text2 = f.read()\n",
        "len(text2.split(' '))"
      ],
      "execution_count": 22,
      "outputs": [
        {
          "output_type": "execute_result",
          "data": {
            "text/plain": [
              "40344"
            ]
          },
          "metadata": {
            "tags": []
          },
          "execution_count": 22
        }
      ]
    },
    {
      "cell_type": "code",
      "metadata": {
        "colab": {
          "base_uri": "https://localhost:8080/"
        },
        "id": "17a2QCMeb77J",
        "outputId": "e46fb284-8771-423c-fd74-a165f9d4fbf0"
      },
      "source": [
        "print(len(text.split(' ')))\n",
        "text4 = \" \".join(text.split(' ')[0:31721])+text2\n",
        "len(text4.split(' '))"
      ],
      "execution_count": 23,
      "outputs": [
        {
          "output_type": "stream",
          "text": [
            "7669\n"
          ],
          "name": "stdout"
        },
        {
          "output_type": "execute_result",
          "data": {
            "text/plain": [
              "48012"
            ]
          },
          "metadata": {
            "tags": []
          },
          "execution_count": 23
        }
      ]
    },
    {
      "cell_type": "code",
      "metadata": {
        "id": "i3TbOGfcb-yP"
      },
      "source": [
        "text3 = text+text2"
      ],
      "execution_count": 24,
      "outputs": []
    },
    {
      "cell_type": "code",
      "metadata": {
        "colab": {
          "base_uri": "https://localhost:8080/"
        },
        "id": "v6sbm3VgcBvM",
        "outputId": "6bcc45c7-01b1-4261-c9c8-e91d20e2c422"
      },
      "source": [
        "text_model = markovify.Text(text4)\n",
        "\n",
        "candidates = []\n",
        "for i in range(10):\n",
        "  print(text_model.make_sentence())"
      ],
      "execution_count": 26,
      "outputs": [
        {
          "output_type": "stream",
          "text": [
            "21:001:015 That which is crooked cannot be made deductible, and don't have to first create a sanctuary for herself in a constant state of being sad and resisting instead of simply calculating your net happiness.\n",
            "If that sounds like you then try for just a few days without spending significant time discovering your authentic needs and passions can change overtime, I also know it could be better.\n",
            "21:009:001 For all his labour, and of the righteous: I said this, but it rarely pays to be balanced, but it rarely pays to be one-dimensional in the US Business School.”\n",
            "21:005:019 Every man also knoweth not how to deal with these incidents as they happen.\n",
            "Intellectual: I use this philosophy whether I am sure to check the copyright laws for your country before downloading or redistributing this or that” I will go to the sinner shall be shut in the cantina, drink a little extra to sell for today.\n",
            "It’s true - an ounce of prevention is really enjoying any of the sons of men to be in his first chapter.\n",
            "21:007:027 Behold, this have I seen in the time we have.\n",
            "I have asked myself many times what I really want out of the time, so before you start to read a book or go looking around the concept of work done while the boys and talk with them.\n",
            "For me they put “Silent Brain”. I misread this and all of these areas, we are failing.\n",
            "The minimum is the whole matter: Fear God, and keep me up to 3 days.\n"
          ],
          "name": "stdout"
        }
      ]
    }
  ]
}